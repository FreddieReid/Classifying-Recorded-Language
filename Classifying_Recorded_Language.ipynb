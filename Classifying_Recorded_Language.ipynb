{
 "cells": [
  {
   "cell_type": "markdown",
   "metadata": {
    "scrolled": true
   },
   "source": [
    "# Classifying Recorded Language"
   ]
  },
  {
   "cell_type": "markdown",
   "metadata": {},
   "source": [
    "### MSIN0097: Predictive Analytics Indivivdual Assignment"
   ]
  },
  {
   "cell_type": "markdown",
   "metadata": {},
   "source": [
    "# Table of Contents\n",
    "\n",
    "* [1. Business Understanding](#1.-Business-Understanding)\n",
    "* [2. Data Collection Proccess](#2.-Data-Collection-Process)\n",
    "* [3. Data Description](#3.-Data-Description)\n",
    "* [4. Data Exploration](#4.-Data-Exploration)\n",
    "    * [4.1 Data Cleaning](#4.1-Data-Cleaning)\n",
    "    * [4.2 Data Visualisation](#4.2-Data-Visualisation)\n",
    "* [5. Modelling Preparation](#5.-Modelling-Preparation)\n",
    "    * [5.1 Train-Test Split](#5.1-Train-Test-Split)\n",
    "    * [5.2 Synthetic Data and Scaling](#5.2-Synthetic-Data-and-Scaling)\n",
    "    * [5.3 Principal Component Analysis](#5.3-Principal-Component-Analysis)\n",
    "* [6. Models](#6.-Models)   \n",
    "    * [6.1 Support Vector Machine](#6.1-Support-Vector-Machine)\n",
    "    * [6.2 Random Forest](#6.2-Random-Forest)\n",
    "    * [6.3 XGBoost Forest](#6.3-XGBoost-Forest)\n",
    "    * [6.4 Voting Classifier](#6.4-Final-Model)\n",
    "    \n",
    "* [7. Conclusion ](#7.-Conclusion)"
   ]
  },
  {
   "cell_type": "markdown",
   "metadata": {},
   "source": [
    "# 1. Business Understanding\n",
    "\n",
    "Throughout this report, we will attempt to create a model which can predict the language being that is currently being spoken. There is a plethora of use cases for such a model. For example, a navigation system could recognise the voice that is being spoken in a car to then respond in the corresponsing language. Or a translator could recognise the language being spoken in order to directly translate the voice into another language.\n",
    "\n",
    "\n",
    "The model's performance will be based on how often the model is correct when it labels a voice as a certain language (precision) and how often each language was correctly identified in total (recall).\n",
    "\n",
    "\n",
    "\n"
   ]
  },
  {
   "cell_type": "markdown",
   "metadata": {},
   "source": [
    "# 2. Data Collection Process\n",
    "\n",
    "The data was collected as part of the \"Production and Perception of Linguistic Voice Quality\" project at UCLA. In order to collect the data, a software called VoiceSauce was used.\n",
    "\n",
    "The recordings for each language were collected independently and subsequently aggregated by UCLA. Therefore, the words and phrases recorded in each language, as well as the number of individuals recorded, varies. \n",
    "\n",
    "The recorded languages are English, Bo (Chinese lanuguage), Miao (Chinese language),Yi (Chinese langauge), Hmong (Chinese language), Luchun (Chinese language), Zapotec (indigenous Columbian language), Mazatec (indigenous Mexican language), Gujarati (Indo-Aryan language) and Manadarin.\n",
    "\n",
    "\n",
    "\n",
    "#### Limitations to data collection:\n",
    "\n",
    "The fact that the a limited number of people were recorded hinders the usability of our model. For example, often only certain words were spoken instead of sentences which could harm the model accuracy in deployment. Furthermore the data does not capture enough accents and dialects to predict each language in the real world use. However, the data is sufficient to create a rudimentary language prediction model for the 9 langauges.\n"
   ]
  },
  {
   "cell_type": "code",
   "execution_count": 29,
   "metadata": {},
   "outputs": [
    {
     "name": "stdout",
     "output_type": "stream",
     "text": [
      "\u001b[1m\n",
      "         .:::.     .::.       \n",
      "        ....yy:    .yy.       \n",
      "        :.  .yy.    y.        \n",
      "             :y:   .:         \n",
      "             .yy  .:          \n",
      "              yy..:           \n",
      "              :y:.            \n",
      "              .y.             \n",
      "             .:.              \n",
      "        ....:.                \n",
      "        :::.                  \n",
      "\u001b[0;33m\n",
      "• Project files and data should be stored in /project. This is shared among everyone\n",
      "  in the project.\n",
      "• Personal files and configuration should be stored in /home/faculty.\n",
      "• Files outside /project and /home/faculty will be lost when this server is terminated.\n",
      "• Create custom environments to setup your servers reproducibly.\n",
      "\u001b[0m\n",
      "Collecting imbalanced-learn\n",
      "  Downloading imbalanced_learn-0.8.0-py3-none-any.whl (206 kB)\n",
      "\u001b[K     |████████████████████████████████| 206 kB 20.8 MB/s eta 0:00:01\n",
      "\u001b[?25hCollecting scikit-learn>=0.24\n",
      "  Downloading scikit_learn-0.24.1-cp38-cp38-manylinux2010_x86_64.whl (24.9 MB)\n",
      "\u001b[K     |████████████████████████████████| 24.9 MB 57.9 MB/s eta 0:00:01\n",
      "\u001b[?25hRequirement already satisfied, skipping upgrade: numpy>=1.13.3 in /opt/anaconda/envs/Python3/lib/python3.8/site-packages (from imbalanced-learn) (1.18.5)\n",
      "Requirement already satisfied, skipping upgrade: joblib>=0.11 in /opt/anaconda/envs/Python3/lib/python3.8/site-packages (from imbalanced-learn) (0.16.0)\n",
      "Requirement already satisfied, skipping upgrade: scipy>=0.19.1 in /opt/anaconda/envs/Python3/lib/python3.8/site-packages (from imbalanced-learn) (1.5.0)\n",
      "Requirement already satisfied, skipping upgrade: threadpoolctl>=2.0.0 in /opt/anaconda/envs/Python3/lib/python3.8/site-packages (from scikit-learn>=0.24->imbalanced-learn) (2.1.0)\n",
      "Installing collected packages: scikit-learn, imbalanced-learn\n",
      "  Attempting uninstall: scikit-learn\n",
      "    Found existing installation: scikit-learn 0.23.1\n",
      "    Uninstalling scikit-learn-0.23.1:\n",
      "      Successfully uninstalled scikit-learn-0.23.1\n",
      "Successfully installed imbalanced-learn-0.8.0 scikit-learn-0.24.1\n",
      "\u001b[1m\n",
      "         .:::.     .::.       \n",
      "        ....yy:    .yy.       \n",
      "        :.  .yy.    y.        \n",
      "             :y:   .:         \n",
      "             .yy  .:          \n",
      "              yy..:           \n",
      "              :y:.            \n",
      "              .y.             \n",
      "             .:.              \n",
      "        ....:.                \n",
      "        :::.                  \n",
      "\u001b[0;33m\n",
      "• Project files and data should be stored in /project. This is shared among everyone\n",
      "  in the project.\n",
      "• Personal files and configuration should be stored in /home/faculty.\n",
      "• Files outside /project and /home/faculty will be lost when this server is terminated.\n",
      "• Create custom environments to setup your servers reproducibly.\n",
      "\u001b[0m\n",
      "Requirement already satisfied: imbalanced-learn in /opt/anaconda/envs/Python3/lib/python3.8/site-packages (0.8.0)\n",
      "Requirement already satisfied: numpy>=1.13.3 in /opt/anaconda/envs/Python3/lib/python3.8/site-packages (from imbalanced-learn) (1.18.5)\n",
      "Requirement already satisfied: joblib>=0.11 in /opt/anaconda/envs/Python3/lib/python3.8/site-packages (from imbalanced-learn) (0.16.0)\n",
      "Requirement already satisfied: scipy>=0.19.1 in /opt/anaconda/envs/Python3/lib/python3.8/site-packages (from imbalanced-learn) (1.5.0)\n",
      "Requirement already satisfied: scikit-learn>=0.24 in /opt/anaconda/envs/Python3/lib/python3.8/site-packages (from imbalanced-learn) (0.24.1)\n",
      "Requirement already satisfied: threadpoolctl>=2.0.0 in /opt/anaconda/envs/Python3/lib/python3.8/site-packages (from scikit-learn>=0.24->imbalanced-learn) (2.1.0)\n"
     ]
    }
   ],
   "source": [
    "import pandas as pd\n",
    "import numpy as np\n",
    "from urllib.request import urlretrieve\n",
    "!pip install -U imbalanced-learn\n",
    "!pip install imbalanced-learn\n",
    "%matplotlib inline\n",
    "\n",
    "# Display full output rather than just the last line of output\n",
    "from IPython.core.interactiveshell import InteractiveShell\n",
    "InteractiveShell.ast_node_interactivity = \"all\""
   ]
  },
  {
   "cell_type": "code",
   "execution_count": 2,
   "metadata": {
    "scrolled": true
   },
   "outputs": [],
   "source": [
    "#load data from website\n",
    "\n",
    "url = 'http://www.phonetics.ucla.edu/voiceproject/Spreadsheet/Voice_Master.xlsx'\n",
    "\n",
    "#Read file into a DataFrame\n",
    "\n",
    "df = pd.read_excel(url, sep=';', encoding = 'utf-8')"
   ]
  },
  {
   "cell_type": "code",
   "execution_count": 3,
   "metadata": {},
   "outputs": [
    {
     "data": {
      "text/html": [
       "<div>\n",
       "<style scoped>\n",
       "    .dataframe tbody tr th:only-of-type {\n",
       "        vertical-align: middle;\n",
       "    }\n",
       "\n",
       "    .dataframe tbody tr th {\n",
       "        vertical-align: top;\n",
       "    }\n",
       "\n",
       "    .dataframe thead th {\n",
       "        text-align: right;\n",
       "    }\n",
       "</style>\n",
       "<table border=\"1\" class=\"dataframe\">\n",
       "  <thead>\n",
       "    <tr style=\"text-align: right;\">\n",
       "      <th></th>\n",
       "      <th>Filename</th>\n",
       "      <th>0=do not use</th>\n",
       "      <th>Label</th>\n",
       "      <th>Language</th>\n",
       "      <th>Dialect/Village</th>\n",
       "      <th>Sex</th>\n",
       "      <th>Speaker #</th>\n",
       "      <th>Speaker</th>\n",
       "      <th>Lang_Spk</th>\n",
       "      <th>Phonation</th>\n",
       "      <th>...</th>\n",
       "      <th>sB4_mean</th>\n",
       "      <th>sB4_means001</th>\n",
       "      <th>sB4_means002</th>\n",
       "      <th>sB4_means003</th>\n",
       "      <th>sB4_means004</th>\n",
       "      <th>sB4_means005</th>\n",
       "      <th>sB4_means006</th>\n",
       "      <th>sB4_means007</th>\n",
       "      <th>sB4_means008</th>\n",
       "      <th>sB4_means009</th>\n",
       "    </tr>\n",
       "  </thead>\n",
       "  <tbody>\n",
       "    <tr>\n",
       "      <th>0</th>\n",
       "      <td>F19May20_sure_normal.mat</td>\n",
       "      <td>0 end</td>\n",
       "      <td>r</td>\n",
       "      <td>English</td>\n",
       "      <td>NaN</td>\n",
       "      <td>F</td>\n",
       "      <td>19</td>\n",
       "      <td>F19</td>\n",
       "      <td>English_F19</td>\n",
       "      <td>M</td>\n",
       "      <td>...</td>\n",
       "      <td>263.529</td>\n",
       "      <td>217.219</td>\n",
       "      <td>272.275</td>\n",
       "      <td>230.260</td>\n",
       "      <td>215.393</td>\n",
       "      <td>178.683</td>\n",
       "      <td>158.294</td>\n",
       "      <td>209.815</td>\n",
       "      <td>348.863</td>\n",
       "      <td>542.583</td>\n",
       "    </tr>\n",
       "    <tr>\n",
       "      <th>1</th>\n",
       "      <td>F19May20_sure_normal.mat</td>\n",
       "      <td>0 end</td>\n",
       "      <td>r</td>\n",
       "      <td>English</td>\n",
       "      <td>NaN</td>\n",
       "      <td>F</td>\n",
       "      <td>19</td>\n",
       "      <td>F19</td>\n",
       "      <td>English_F19</td>\n",
       "      <td>M</td>\n",
       "      <td>...</td>\n",
       "      <td>375.086</td>\n",
       "      <td>354.539</td>\n",
       "      <td>448.949</td>\n",
       "      <td>254.102</td>\n",
       "      <td>159.089</td>\n",
       "      <td>220.819</td>\n",
       "      <td>198.345</td>\n",
       "      <td>227.356</td>\n",
       "      <td>592.842</td>\n",
       "      <td>908.053</td>\n",
       "    </tr>\n",
       "    <tr>\n",
       "      <th>2</th>\n",
       "      <td>F19May20_sure_normal.mat</td>\n",
       "      <td>0</td>\n",
       "      <td>r</td>\n",
       "      <td>English</td>\n",
       "      <td>NaN</td>\n",
       "      <td>F</td>\n",
       "      <td>19</td>\n",
       "      <td>F19</td>\n",
       "      <td>English_F19</td>\n",
       "      <td>M</td>\n",
       "      <td>...</td>\n",
       "      <td>295.344</td>\n",
       "      <td>407.098</td>\n",
       "      <td>357.500</td>\n",
       "      <td>242.458</td>\n",
       "      <td>224.664</td>\n",
       "      <td>200.499</td>\n",
       "      <td>192.645</td>\n",
       "      <td>229.259</td>\n",
       "      <td>363.865</td>\n",
       "      <td>434.302</td>\n",
       "    </tr>\n",
       "    <tr>\n",
       "      <th>3</th>\n",
       "      <td>F1July22_sure_normal.mat</td>\n",
       "      <td>0 end</td>\n",
       "      <td>r</td>\n",
       "      <td>English</td>\n",
       "      <td>NaN</td>\n",
       "      <td>F</td>\n",
       "      <td>1</td>\n",
       "      <td>F1</td>\n",
       "      <td>English_F1</td>\n",
       "      <td>M</td>\n",
       "      <td>...</td>\n",
       "      <td>277.880</td>\n",
       "      <td>131.692</td>\n",
       "      <td>410.788</td>\n",
       "      <td>366.203</td>\n",
       "      <td>183.711</td>\n",
       "      <td>213.710</td>\n",
       "      <td>246.977</td>\n",
       "      <td>328.101</td>\n",
       "      <td>265.039</td>\n",
       "      <td>357.186</td>\n",
       "    </tr>\n",
       "    <tr>\n",
       "      <th>4</th>\n",
       "      <td>F1July22_sure_normal.mat</td>\n",
       "      <td>0 end</td>\n",
       "      <td>r</td>\n",
       "      <td>English</td>\n",
       "      <td>NaN</td>\n",
       "      <td>F</td>\n",
       "      <td>1</td>\n",
       "      <td>F1</td>\n",
       "      <td>English_F1</td>\n",
       "      <td>M</td>\n",
       "      <td>...</td>\n",
       "      <td>335.320</td>\n",
       "      <td>209.534</td>\n",
       "      <td>376.419</td>\n",
       "      <td>357.762</td>\n",
       "      <td>191.279</td>\n",
       "      <td>250.888</td>\n",
       "      <td>322.978</td>\n",
       "      <td>439.648</td>\n",
       "      <td>573.923</td>\n",
       "      <td>291.340</td>\n",
       "    </tr>\n",
       "  </tbody>\n",
       "</table>\n",
       "<p>5 rows × 474 columns</p>\n",
       "</div>"
      ],
      "text/plain": [
       "                   Filename 0=do not use Label Language Dialect/Village Sex  \\\n",
       "0  F19May20_sure_normal.mat        0 end     r  English             NaN   F   \n",
       "1  F19May20_sure_normal.mat        0 end     r  English             NaN   F   \n",
       "2  F19May20_sure_normal.mat            0     r  English             NaN   F   \n",
       "3  F1July22_sure_normal.mat        0 end     r  English             NaN   F   \n",
       "4  F1July22_sure_normal.mat        0 end     r  English             NaN   F   \n",
       "\n",
       "  Speaker # Speaker     Lang_Spk Phonation  ... sB4_mean sB4_means001  \\\n",
       "0        19     F19  English_F19         M  ...  263.529      217.219   \n",
       "1        19     F19  English_F19         M  ...  375.086      354.539   \n",
       "2        19     F19  English_F19         M  ...  295.344      407.098   \n",
       "3         1      F1   English_F1         M  ...  277.880      131.692   \n",
       "4         1      F1   English_F1         M  ...  335.320      209.534   \n",
       "\n",
       "  sB4_means002 sB4_means003  sB4_means004 sB4_means005  sB4_means006  \\\n",
       "0      272.275      230.260       215.393      178.683       158.294   \n",
       "1      448.949      254.102       159.089      220.819       198.345   \n",
       "2      357.500      242.458       224.664      200.499       192.645   \n",
       "3      410.788      366.203       183.711      213.710       246.977   \n",
       "4      376.419      357.762       191.279      250.888       322.978   \n",
       "\n",
       "  sB4_means007 sB4_means008 sB4_means009  \n",
       "0      209.815      348.863      542.583  \n",
       "1      227.356      592.842      908.053  \n",
       "2      229.259      363.865      434.302  \n",
       "3      328.101      265.039      357.186  \n",
       "4      439.648      573.923      291.340  \n",
       "\n",
       "[5 rows x 474 columns]"
      ]
     },
     "execution_count": 3,
     "metadata": {},
     "output_type": "execute_result"
    },
    {
     "name": "stdout",
     "output_type": "stream",
     "text": [
      "The dataset has 16833 rows and 474 columns \n"
     ]
    }
   ],
   "source": [
    "#see head and shape of the data\n",
    "\n",
    "voice_data = pd.DataFrame(df)\n",
    "voice_data.head()\n",
    "voice_shape = voice_data.shape\n",
    "print(\"The dataset has {} rows and {} columns \".format(voice_shape[0], voice_shape[1]))"
   ]
  },
  {
   "cell_type": "markdown",
   "metadata": {},
   "source": [
    "# 3. Data Description\n",
    "\n",
    "\n",
    "As seen above, the data collates 474 variables which are used to capture characteristics of voices.\n",
    "\n",
    "In general, there are three groups of measurements:\n",
    "\n",
    "- F0/CPP/E/HNR- variables that measure the pitch and energy of the recording in Herz\n",
    "- Formants - the variables such as F2,F3 etc. These are concentrations of energy around certain frequencies which are hit when speaking\n",
    "- Hx-Ax - these variables contain the harmonic frequencies relative to their amplitude\n",
    "\n",
    "\n",
    "F0, known as the fundamental frequency, is the main voice measure. The fundamental frequency is the lowest frequency in each respective sound wave.\n",
    "\n",
    "VoiceSauce collects data on the fundamental frequency using four different algorithms which are captured as separate variables.\n",
    "\n",
    "- shrF0 - Subharmonic-to-Harmonic Ratio method\n",
    "\n",
    "- strF0 - Straight method (Kawahara et al. 1998)\n",
    "\n",
    "- sF0 - Snack Sound Toolkit method (Sjölander 2004)\n",
    "\n",
    "- pF0 - using Praat (a phonetics software)\n",
    "\n",
    "The variables H1,H2,H4 capture harmonics of the respective fundamental frequency. A harmonic refers to the **frequency** one multiple higher than the fundamental frequency. For example, if a fundamental frequency was 100Hz, the first harmonic would be 200Hz.\n",
    "\n",
    "Variables A1,A2,A3 refer to the **amplitude** of the harmonics. In acoustics, frequency refers to the speed of the vibration and amplitude to the size of the vibration.\n",
    "\n",
    "Variables sF1-4 and pF1-4 refer to the formants based on the fundamental frequencies gained from the Snack sound toolkit and Praat systems.\n",
    "\n",
    "The HNR or Harmonic to Noise Ratio variables capture how much additive noise, or jitter, is in a voice signal at different frequencies.\n",
    "\n",
    "Energy variable refers to the root mean squared energy captured in the recording.\n",
    "\n",
    "The variable CCP refers to the cepstral peak prominence. This measures the breathiness of the voice recorded.\n",
    "\n",
    "The variables sB1-4 capture the bandwidth of the formant frequencies. Bandwidth refers to the difference in the upper and lower bound of the formant frequency.\n",
    "\n",
    "Each variable output is the result of nine measurements which each have their own column. For example, the variable sB4_mean is the mean results of sB4_means001,sB4_means002... Therefore, we can delete the individual measurements and keep the mean.\n",
    "\n",
    "Furthermore, there are multiple variables which are in the dataset in  both corrected and uncorrected format. These are labled by either having a 'u' or a 'c' nect to them. Only the corrected variables will be used in this analysis.\n",
    "\n",
    "Finally there are some columns which are not interesting for our analysis. These columns mostly summarise the information about the speaker or the words recorded which are not part of the scope of this project."
   ]
  },
  {
   "cell_type": "markdown",
   "metadata": {},
   "source": [
    "# 4. Data Exploration"
   ]
  },
  {
   "cell_type": "markdown",
   "metadata": {},
   "source": [
    "## 4.1 Data Cleaning"
   ]
  },
  {
   "cell_type": "code",
   "execution_count": 4,
   "metadata": {
    "scrolled": true
   },
   "outputs": [],
   "source": [
    "#Only interested in the mean columns, delete columns that aren't mean\n",
    "\n",
    "voice_data.drop(voice_data.filter(regex='means').columns, axis=1, inplace=True)\n",
    "\n",
    "#delete uncorrected variables\n",
    "\n",
    "voice_data.drop(voice_data.filter(regex='u_').columns, axis=1, inplace=True)\n",
    "\n",
    "#drop unneeded columns\n",
    "columns = [0,1,2,4,5,6,7,8,10,11,12,13,14,15,16,17,18,19,20,21,22,23]\n",
    "\n",
    "voice_data.drop(voice_data.columns[columns], axis =1, inplace = True)\n",
    "\n",
    "#delete _mean from column names for cleaner variable names\n",
    "\n",
    "voice_data.columns = voice_data.columns.str.replace(\"_mean\", \"\")\n"
   ]
  },
  {
   "cell_type": "code",
   "execution_count": 5,
   "metadata": {
    "scrolled": true
   },
   "outputs": [
    {
     "data": {
      "text/plain": [
       "Luchun      22.0\n",
       "Gujarati    19.7\n",
       "Bo          14.5\n",
       "Yi          13.4\n",
       "Hmong       11.9\n",
       "Miao         9.9\n",
       "Mandarin     3.0\n",
       "Mazatec      3.0\n",
       "Zapotec      2.0\n",
       "English      0.4\n",
       "Name: Language, dtype: float64"
      ]
     },
     "execution_count": 5,
     "metadata": {},
     "output_type": "execute_result"
    }
   ],
   "source": [
    "#see the ditribution of languages in %\n",
    "\n",
    "round(voice_data[\"Language\"].value_counts(normalize = True),3)*100\n"
   ]
  },
  {
   "cell_type": "markdown",
   "metadata": {},
   "source": [
    "We can see that the classes of our distribution are not very evenly distributed. The majority class, Luchun, has 22% of the data.\n",
    "\n",
    "The minority class, English, only has 0.4% of the data. Even though there are methods to rectify imbalanced data, the percentage of instances is too low, so we will delete the class.\n"
   ]
  },
  {
   "cell_type": "code",
   "execution_count": 6,
   "metadata": {
    "scrolled": true
   },
   "outputs": [],
   "source": [
    "#delete english language \n",
    "\n",
    "voice_data.drop(voice_data.index[voice_data['Language'] == 'English'], inplace = True)"
   ]
  },
  {
   "cell_type": "markdown",
   "metadata": {},
   "source": [
    "The next step is to see whether there are any duplicated rows."
   ]
  },
  {
   "cell_type": "code",
   "execution_count": 7,
   "metadata": {},
   "outputs": [
    {
     "name": "stdout",
     "output_type": "stream",
     "text": [
      "There are no duplicated rows\n"
     ]
    }
   ],
   "source": [
    "#check if there are any duplicated instances\n",
    "\n",
    "duplicates = voice_data.duplicated().sum()\n",
    "\n",
    "if duplicates == 0:\n",
    "    print(\"There are no duplicated rows\")\n",
    "else:\n",
    "    print(\"There are {} duplicated rows\".format(duplicates))\n",
    "    "
   ]
  },
  {
   "cell_type": "markdown",
   "metadata": {},
   "source": [
    "Next, we will look for null values."
   ]
  },
  {
   "cell_type": "code",
   "execution_count": 8,
   "metadata": {},
   "outputs": [
    {
     "name": "stdout",
     "output_type": "stream",
     "text": [
      "SHR 57\n",
      "shrF0 1560\n",
      "pF0 57\n",
      "pF1 57\n",
      "pF2 57\n",
      "pF3 57\n",
      "pF4 57\n"
     ]
    }
   ],
   "source": [
    "#display columns with null values and how many instances with null values they have\n",
    "\n",
    "def null_columns():\n",
    "    columns = voice_data.isna().sum()\n",
    "    for col, null_values in columns.items():\n",
    "        if null_values > 0:\n",
    "            print(col, null_values)\n",
    "            \n",
    "null_columns()"
   ]
  },
  {
   "cell_type": "markdown",
   "metadata": {},
   "source": [
    "ShrF0 is one of the four fundamental frequencies VoiceSauce measures. No other harmonics, formants or bandwidths are measured against the shrF0 value. The information lost by dropping this variable will most likely be minimal, therefore this is the preferred choice of action.\n"
   ]
  },
  {
   "cell_type": "code",
   "execution_count": 9,
   "metadata": {},
   "outputs": [],
   "source": [
    "#drop shrF0 column\n",
    "\n",
    "voice_data.drop(\"shrF0\", axis =1, inplace = True)"
   ]
  },
  {
   "cell_type": "code",
   "execution_count": 10,
   "metadata": {},
   "outputs": [
    {
     "data": {
      "text/plain": [
       "Gujarati    57\n",
       "Name: Language, dtype: int64"
      ]
     },
     "execution_count": 10,
     "metadata": {},
     "output_type": "execute_result"
    }
   ],
   "source": [
    "#find what language the rest of the missing values are attributed to\n",
    "\n",
    "miss =voice_data[voice_data.isnull().any(axis=1)]\n",
    "miss[\"Language\"].value_counts()"
   ]
  },
  {
   "cell_type": "markdown",
   "metadata": {},
   "source": [
    "Now there are 57 rows left with missing data left in them. We can see that there was an issue with recording the fundamental frequency using the Praat and Straight methods. Following, the formants, which are based on the fundamental frequency could not be measured.\n",
    "\n",
    "We will fill these values with their median value to not lose any data."
   ]
  },
  {
   "cell_type": "code",
   "execution_count": 11,
   "metadata": {},
   "outputs": [],
   "source": [
    "#fill in missing values with median\n",
    "\n",
    "voice_data = voice_data.fillna(voice_data.median())\n"
   ]
  },
  {
   "cell_type": "code",
   "execution_count": 12,
   "metadata": {
    "scrolled": false
   },
   "outputs": [
    {
     "name": "stdout",
     "output_type": "stream",
     "text": [
      "<class 'pandas.core.frame.DataFrame'>\n",
      "Int64Index: 16766 entries, 67 to 16832\n",
      "Data columns (total 35 columns):\n",
      " #   Column     Non-Null Count  Dtype  \n",
      "---  ------     --------------  -----  \n",
      " 0   Language   16766 non-null  object \n",
      " 1   Phonation  16766 non-null  object \n",
      " 2   H1c        16766 non-null  float64\n",
      " 3   H2c        16766 non-null  float64\n",
      " 4   H4c        16766 non-null  float64\n",
      " 5   A1c        16766 non-null  float64\n",
      " 6   A2c        16766 non-null  float64\n",
      " 7   A3c        16766 non-null  float64\n",
      " 8   H1H2c      16766 non-null  float64\n",
      " 9   H2H4c      16766 non-null  float64\n",
      " 10  H1A1c      16766 non-null  float64\n",
      " 11  H1A2c      16766 non-null  float64\n",
      " 12  H1A3c      16766 non-null  float64\n",
      " 13  CPP        16766 non-null  float64\n",
      " 14  Energy     16766 non-null  float64\n",
      " 15  HNR05      16766 non-null  float64\n",
      " 16  HNR15      16766 non-null  float64\n",
      " 17  HNR25      16766 non-null  float64\n",
      " 18  HNR35      16766 non-null  float64\n",
      " 19  SHR        16766 non-null  float64\n",
      " 20  strF0      16766 non-null  float64\n",
      " 21  sF0        16766 non-null  float64\n",
      " 22  pF0        16766 non-null  float64\n",
      " 23  sF1        16766 non-null  float64\n",
      " 24  sF2        16766 non-null  float64\n",
      " 25  sF3        16766 non-null  float64\n",
      " 26  sF4        16766 non-null  float64\n",
      " 27  pF1        16766 non-null  float64\n",
      " 28  pF2        16766 non-null  float64\n",
      " 29  pF3        16766 non-null  float64\n",
      " 30  pF4        16766 non-null  float64\n",
      " 31  sB1        16766 non-null  float64\n",
      " 32  sB2        16766 non-null  float64\n",
      " 33  sB3        16766 non-null  float64\n",
      " 34  sB4        16766 non-null  float64\n",
      "dtypes: float64(33), object(2)\n",
      "memory usage: 4.6+ MB\n"
     ]
    }
   ],
   "source": [
    "#check data types of the variables\n",
    "\n",
    "voice_data.info()"
   ]
  },
  {
   "cell_type": "markdown",
   "metadata": {},
   "source": [
    "Checking the object type, we see that all variables are in the correct format."
   ]
  },
  {
   "cell_type": "markdown",
   "metadata": {},
   "source": [
    "## 4.2 Data Visualisation"
   ]
  },
  {
   "cell_type": "markdown",
   "metadata": {},
   "source": [
    "As the phonation could be useful for our model, we will create dummy variables that can be read by our models. The phonation types are categorised as the following:\n",
    "\n",
    "M = Modal (regular)\n",
    "\n",
    "C = Creaky (lower airflow)\n",
    "\n",
    "B = Breathy (less contact of vocal cords)\n",
    "\n",
    "L = Lax (looser vibrations)\n",
    "\n",
    "T = Tense (stiffer vibrations)"
   ]
  },
  {
   "cell_type": "code",
   "execution_count": 13,
   "metadata": {
    "scrolled": true
   },
   "outputs": [],
   "source": [
    "#create dummy variables for the five phonation types\n",
    "\n",
    "voice_data = pd.concat([voice_data, pd.get_dummies(voice_data[\"Phonation\"], prefix = \"Phonation\")],axis = 1)"
   ]
  },
  {
   "cell_type": "markdown",
   "metadata": {},
   "source": [
    "In order to see which variables are the most correlated with each language, we will create dummy variables for each language."
   ]
  },
  {
   "cell_type": "code",
   "execution_count": 14,
   "metadata": {
    "scrolled": true
   },
   "outputs": [],
   "source": [
    "#create dummy variables for the nine languages\n",
    "\n",
    "voice_data = pd.concat([voice_data, pd.get_dummies(voice_data[\"Language\"], prefix = \"Lang\")],axis = 1)"
   ]
  },
  {
   "cell_type": "code",
   "execution_count": 15,
   "metadata": {
    "scrolled": false
   },
   "outputs": [
    {
     "name": "stdout",
     "output_type": "stream",
     "text": [
      "                 Correlations\n",
      "HNR25 HNR35              0.98\n",
      "HNR15 HNR25              0.96\n",
      "pF3   Lang_Miao          0.94\n",
      "HNR15 HNR35              0.92\n",
      "pF2   pF3                0.88\n",
      "H1c   H2c                0.88\n",
      "H4c   A1c                0.88\n",
      "H2c   H4c                0.82\n",
      "HNR05 HNR15              0.81\n",
      "pF2   Lang_Miao          0.80\n",
      "pF4   Lang_Miao          0.79\n",
      "H4c   A2c                0.78\n",
      "A1c   A2c                0.77\n",
      "H1c   H4c                0.76\n",
      "HNR05 HNR25              0.76\n"
     ]
    }
   ],
   "source": [
    "# get the correlations of the individual variables\n",
    "\n",
    "corr = round(voice_data.corr().abs().unstack().drop_duplicates().sort_values(ascending = False),2)\n",
    "\n",
    "#print DataFrame of highly correlated variables (over 0.75)\n",
    "\n",
    "high_corr = pd.DataFrame(corr[(corr > 0.75)& (corr < 1) ], columns = [\"Correlations\"])\n",
    "print(high_corr)\n",
    "\n"
   ]
  },
  {
   "cell_type": "markdown",
   "metadata": {},
   "source": [
    "The table above shows how the language Miao is highly correlated with one of the formant measurements. It also highlights that some variables such as the HNR metrics, are highly correlated. Let's plot the correlations."
   ]
  },
  {
   "cell_type": "code",
   "execution_count": 16,
   "metadata": {
    "scrolled": true
   },
   "outputs": [],
   "source": [
    "#create target set (language) and feature variable sets\n",
    "\n",
    "voice_target = voice_data[\"Language\"]\n",
    "voice_features = voice_data.iloc[:, 2:]"
   ]
  },
  {
   "cell_type": "code",
   "execution_count": 17,
   "metadata": {
    "scrolled": false
   },
   "outputs": [
    {
     "data": {
      "text/plain": [
       "<Figure size 864x720 with 0 Axes>"
      ]
     },
     "execution_count": 17,
     "metadata": {},
     "output_type": "execute_result"
    },
    {
     "data": {
      "image/png": "[encoded data removed]",
      "text/plain": [
       "<Figure size 864x720 with 2 Axes>"
      ]
     },
     "metadata": {
      "needs_background": "light"
     },
     "output_type": "display_data"
    }
   ],
   "source": [
    "#plot the correlations in a heatmap\n",
    "\n",
    "import matplotlib.pyplot as plt\n",
    "import seaborn as sns \n",
    "\n",
    "\n",
    "plt.figure(figsize=(12,10))\n",
    "heatmap = sns.heatmap(voice_features.corr())\n"
   ]
  },
  {
   "cell_type": "markdown",
   "metadata": {},
   "source": [
    "We can see some very highly correlated variables. For example, the Miao language seems to be highly correlated with the fundamental frequency measured through Praat. Subsequently, the harmonics pF1-4 are also highly correlated with the language. \n",
    "\n",
    "Furthermore, we can see that the four Harmony to Noise ratios are highly correlated. This begs the question of whether we need all of them in our analysis. However, we can assume that our principal component analysis later will sort this out."
   ]
  },
  {
   "cell_type": "code",
   "execution_count": 18,
   "metadata": {
    "scrolled": false
   },
   "outputs": [
    {
     "data": {
      "text/plain": [
       "<BarContainer object of 5 artists>"
      ]
     },
     "execution_count": 18,
     "metadata": {},
     "output_type": "execute_result"
    },
    {
     "data": {
      "text/plain": [
       "Text(0.5, 1.0, 'Miao Phonation')"
      ]
     },
     "execution_count": 18,
     "metadata": {},
     "output_type": "execute_result"
    },
    {
     "data": {
      "text/plain": [
       "(0.0, 1.0)"
      ]
     },
     "execution_count": 18,
     "metadata": {},
     "output_type": "execute_result"
    },
    {
     "data": {
      "text/plain": [
       "<BarContainer object of 5 artists>"
      ]
     },
     "execution_count": 18,
     "metadata": {},
     "output_type": "execute_result"
    },
    {
     "data": {
      "text/plain": [
       "Text(0.5, 1.0, 'Mandarin Phonation')"
      ]
     },
     "execution_count": 18,
     "metadata": {},
     "output_type": "execute_result"
    },
    {
     "data": {
      "text/plain": [
       "(0.0, 1.0)"
      ]
     },
     "execution_count": 18,
     "metadata": {},
     "output_type": "execute_result"
    },
    {
     "data": {
      "text/plain": [
       "<BarContainer object of 5 artists>"
      ]
     },
     "execution_count": 18,
     "metadata": {},
     "output_type": "execute_result"
    },
    {
     "data": {
      "text/plain": [
       "Text(0.5, 1.0, 'Yi Phonation')"
      ]
     },
     "execution_count": 18,
     "metadata": {},
     "output_type": "execute_result"
    },
    {
     "data": {
      "text/plain": [
       "(0.0, 1.0)"
      ]
     },
     "execution_count": 18,
     "metadata": {},
     "output_type": "execute_result"
    },
    {
     "data": {
      "text/plain": [
       "<BarContainer object of 5 artists>"
      ]
     },
     "execution_count": 18,
     "metadata": {},
     "output_type": "execute_result"
    },
    {
     "data": {
      "text/plain": [
       "Text(0.5, 1.0, 'Gujarati Phonation')"
      ]
     },
     "execution_count": 18,
     "metadata": {},
     "output_type": "execute_result"
    },
    {
     "data": {
      "text/plain": [
       "(0.0, 1.0)"
      ]
     },
     "execution_count": 18,
     "metadata": {},
     "output_type": "execute_result"
    },
    {
     "data": {
      "text/plain": [
       "<BarContainer object of 5 artists>"
      ]
     },
     "execution_count": 18,
     "metadata": {},
     "output_type": "execute_result"
    },
    {
     "data": {
      "text/plain": [
       "Text(0.5, 1.0, 'Bo Phonation')"
      ]
     },
     "execution_count": 18,
     "metadata": {},
     "output_type": "execute_result"
    },
    {
     "data": {
      "text/plain": [
       "(0.0, 1.0)"
      ]
     },
     "execution_count": 18,
     "metadata": {},
     "output_type": "execute_result"
    },
    {
     "data": {
      "text/plain": [
       "<BarContainer object of 5 artists>"
      ]
     },
     "execution_count": 18,
     "metadata": {},
     "output_type": "execute_result"
    },
    {
     "data": {
      "text/plain": [
       "Text(0.5, 1.0, 'Mazatec Phonation')"
      ]
     },
     "execution_count": 18,
     "metadata": {},
     "output_type": "execute_result"
    },
    {
     "data": {
      "text/plain": [
       "(0.0, 1.0)"
      ]
     },
     "execution_count": 18,
     "metadata": {},
     "output_type": "execute_result"
    },
    {
     "data": {
      "text/plain": [
       "<BarContainer object of 5 artists>"
      ]
     },
     "execution_count": 18,
     "metadata": {},
     "output_type": "execute_result"
    },
    {
     "data": {
      "text/plain": [
       "Text(0.5, 1.0, 'Zapotec Phonation')"
      ]
     },
     "execution_count": 18,
     "metadata": {},
     "output_type": "execute_result"
    },
    {
     "data": {
      "text/plain": [
       "(0.0, 1.0)"
      ]
     },
     "execution_count": 18,
     "metadata": {},
     "output_type": "execute_result"
    },
    {
     "data": {
      "text/plain": [
       "<BarContainer object of 5 artists>"
      ]
     },
     "execution_count": 18,
     "metadata": {},
     "output_type": "execute_result"
    },
    {
     "data": {
      "text/plain": [
       "Text(0.5, 1.0, 'Hmong Phonation')"
      ]
     },
     "execution_count": 18,
     "metadata": {},
     "output_type": "execute_result"
    },
    {
     "data": {
      "text/plain": [
       "(0.0, 1.0)"
      ]
     },
     "execution_count": 18,
     "metadata": {},
     "output_type": "execute_result"
    },
    {
     "data": {
      "text/plain": [
       "<BarContainer object of 5 artists>"
      ]
     },
     "execution_count": 18,
     "metadata": {},
     "output_type": "execute_result"
    },
    {
     "data": {
      "text/plain": [
       "Text(0.5, 1.0, 'Luchun Phonation')"
      ]
     },
     "execution_count": 18,
     "metadata": {},
     "output_type": "execute_result"
    },
    {
     "data": {
      "text/plain": [
       "(0.0, 1.0)"
      ]
     },
     "execution_count": 18,
     "metadata": {},
     "output_type": "execute_result"
    },
    {
     "data": {
      "image/png": "[encoded data removed]",
      "text/plain": [
       "<Figure size 1080x864 with 9 Axes>"
      ]
     },
     "metadata": {
      "needs_background": "light"
     },
     "output_type": "display_data"
    }
   ],
   "source": [
    "#For each Language create a df with their respective phonation distribution as a percentage\n",
    "\n",
    "miao = voice_data[voice_data[\"Language\"] == \"Miao\"][\"Phonation\"].value_counts(normalize=True)\n",
    "mand = voice_data[voice_data[\"Language\"] == \"Mandarin\"][\"Phonation\"].value_counts(normalize=True)\n",
    "yi = voice_data[voice_data[\"Language\"] == \"Yi\"][\"Phonation\"].value_counts(normalize=True)\n",
    "guj = voice_data[voice_data[\"Language\"] == \"Gujarati\"][\"Phonation\"].value_counts(normalize=True)\n",
    "bo = voice_data[voice_data[\"Language\"] == \"Bo\"][\"Phonation\"].value_counts(normalize=True)\n",
    "maz = voice_data[voice_data[\"Language\"] == \"Mazatec\"][\"Phonation\"].value_counts(normalize=True)\n",
    "zap = voice_data[voice_data[\"Language\"] == \"Zapotec\"][\"Phonation\"].value_counts(normalize=True)\n",
    "hmong = voice_data[voice_data[\"Language\"] == \"Hmong\"][\"Phonation\"].value_counts(normalize=True)\n",
    "luch = voice_data[voice_data[\"Language\"] == \"Luchun\"][\"Phonation\"].value_counts(normalize=True)\n",
    "\n",
    "\n",
    "#reindex each language and fill the missing values with 0 for better side-to-side comparison\n",
    "\n",
    "miao = miao.reindex(['B', 'C', 'L', 'M', 'T'], fill_value = 0)\n",
    "mand = mand.reindex(['B', 'C', 'L', 'M', 'T'], fill_value = 0)\n",
    "yi = yi.reindex(['B', 'C', 'L', 'M', 'T'], fill_value = 0)\n",
    "guj = guj.reindex(['B', 'C', 'L', 'M', 'T'], fill_value = 0)\n",
    "bo = bo.reindex(['B', 'C', 'L', 'M', 'T'], fill_value = 0)\n",
    "maz = maz.reindex(['B', 'C', 'L', 'M', 'T'], fill_value = 0)\n",
    "zap = zap.reindex(['B', 'C', 'L', 'M', 'T'], fill_value = 0)\n",
    "hmong = hmong.reindex(['B', 'C', 'L', 'M', 'T'], fill_value = 0)\n",
    "luch = luch.reindex(['B', 'C', 'L', 'M', 'T'], fill_value = 0)\n",
    "\n",
    "\n",
    "# set up subplots \n",
    "\n",
    "fig, ((ax1,ax2,ax3),(ax4,ax5,ax6),(ax7,ax8,ax9)) = plt.subplots(3,3, figsize=(15,12))\n",
    "\n",
    "# define height of bar graphs\n",
    "x = [\"B\", \"C\", \"L\", \"M\", \"T\"]\n",
    "\n",
    "#set axis of bar graphs\n",
    "\n",
    "ax1.bar(x, miao)\n",
    "ax1.grid(False)\n",
    "ax1.set_title(\"Miao Phonation\")\n",
    "ax1.set_ylim([0, 1])\n",
    "ax2.bar(x, mand)\n",
    "ax2.grid(False)\n",
    "ax2.set_title(\"Mandarin Phonation\")\n",
    "ax2.set_ylim([0, 1])\n",
    "ax3.bar(x, yi)\n",
    "ax3.grid(False)\n",
    "ax3.set_title(\"Yi Phonation\")\n",
    "ax3.set_ylim([0, 1])\n",
    "ax4.bar(x, guj)\n",
    "ax4.grid(False)\n",
    "ax4.set_title(\"Gujarati Phonation\")\n",
    "ax4.set_ylim([0, 1])\n",
    "ax5.bar(x, bo)\n",
    "ax5.grid(False)\n",
    "ax5.set_title(\"Bo Phonation\")\n",
    "ax5.set_ylim([0, 1])\n",
    "ax6.bar(x, maz)\n",
    "ax6.grid(False)\n",
    "ax6.set_title(\"Mazatec Phonation\")\n",
    "ax6.set_ylim([0, 1])\n",
    "ax7.bar(x, zap)\n",
    "ax7.grid(False)\n",
    "ax7.set_title(\"Zapotec Phonation\")\n",
    "ax7.set_ylim([0, 1])\n",
    "ax8.bar(x, hmong)\n",
    "ax8.grid(False)\n",
    "ax8.set_title(\"Hmong Phonation\")\n",
    "ax8.set_ylim([0, 1])\n",
    "ax9.bar(x, luch)\n",
    "ax9.grid(False)\n",
    "ax9.set_title(\"Luchun Phonation\")\n",
    "ax9.set_ylim([0, 1])\n"
   ]
  },
  {
   "cell_type": "markdown",
   "metadata": {},
   "source": [
    "Looking at the distribution of the phonation between the languages we can see some important differences. Notbaly that the Miao, Mandarin and Hmong have modal phonation when they speak. Especially for Mandarin, the modal phonation seems to be a defining feature of the language. The Yi, Bo and Luchun have either a lax or tense vibration but not modal.\n",
    "\n",
    "The Zapotec and Mazatec have similar phonation, with voices categorised as modal, breathy and creaky. The differences in distribution of the phonation between the language is an indicator that this variable may be a strong factor in classifying the spoken language.\n",
    "\n",
    "Next, we will visualise the fundamental requency of each language.\n"
   ]
  },
  {
   "cell_type": "code",
   "execution_count": 19,
   "metadata": {},
   "outputs": [
    {
     "data": {
      "text/plain": [
       "<matplotlib.axes._subplots.AxesSubplot at 0x7ff8874a35b0>"
      ]
     },
     "execution_count": 19,
     "metadata": {},
     "output_type": "execute_result"
    },
    {
     "data": {
      "text/plain": [
       "Text(0.5, 1.0, 'Miao Fundamental Frequency')"
      ]
     },
     "execution_count": 19,
     "metadata": {},
     "output_type": "execute_result"
    },
    {
     "data": {
      "text/plain": [
       "<matplotlib.axes._subplots.AxesSubplot at 0x7ff88714a940>"
      ]
     },
     "execution_count": 19,
     "metadata": {},
     "output_type": "execute_result"
    },
    {
     "data": {
      "text/plain": [
       "Text(0.5, 1.0, 'Mandarin Fundamental Frequency')"
      ]
     },
     "execution_count": 19,
     "metadata": {},
     "output_type": "execute_result"
    },
    {
     "data": {
      "text/plain": [
       "<matplotlib.axes._subplots.AxesSubplot at 0x7ff88703cd90>"
      ]
     },
     "execution_count": 19,
     "metadata": {},
     "output_type": "execute_result"
    },
    {
     "data": {
      "text/plain": [
       "Text(0.5, 1.0, 'Yi Fundamental Frequency')"
      ]
     },
     "execution_count": 19,
     "metadata": {},
     "output_type": "execute_result"
    },
    {
     "data": {
      "text/plain": [
       "<matplotlib.axes._subplots.AxesSubplot at 0x7ff886c4a1f0>"
      ]
     },
     "execution_count": 19,
     "metadata": {},
     "output_type": "execute_result"
    },
    {
     "data": {
      "text/plain": [
       "Text(0.5, 1.0, 'Gujarati Fundamental Frequency')"
      ]
     },
     "execution_count": 19,
     "metadata": {},
     "output_type": "execute_result"
    },
    {
     "data": {
      "text/plain": [
       "<matplotlib.axes._subplots.AxesSubplot at 0x7ff886aff610>"
      ]
     },
     "execution_count": 19,
     "metadata": {},
     "output_type": "execute_result"
    },
    {
     "data": {
      "text/plain": [
       "Text(0.5, 1.0, 'Bo Fundamental Frequency')"
      ]
     },
     "execution_count": 19,
     "metadata": {},
     "output_type": "execute_result"
    },
    {
     "data": {
      "text/plain": [
       "<matplotlib.axes._subplots.AxesSubplot at 0x7ff8869fdb20>"
      ]
     },
     "execution_count": 19,
     "metadata": {},
     "output_type": "execute_result"
    },
    {
     "data": {
      "text/plain": [
       "Text(0.5, 1.0, 'Mazatec Fundamental Frequency')"
      ]
     },
     "execution_count": 19,
     "metadata": {},
     "output_type": "execute_result"
    },
    {
     "data": {
      "text/plain": [
       "<matplotlib.axes._subplots.AxesSubplot at 0x7ff886a1dee0>"
      ]
     },
     "execution_count": 19,
     "metadata": {},
     "output_type": "execute_result"
    },
    {
     "data": {
      "text/plain": [
       "Text(0.5, 1.0, 'Zapotec Fundamental Frequency')"
      ]
     },
     "execution_count": 19,
     "metadata": {},
     "output_type": "execute_result"
    },
    {
     "data": {
      "text/plain": [
       "<matplotlib.axes._subplots.AxesSubplot at 0x7ff8869c50d0>"
      ]
     },
     "execution_count": 19,
     "metadata": {},
     "output_type": "execute_result"
    },
    {
     "data": {
      "text/plain": [
       "Text(0.5, 1.0, 'Hmong Fundamental Frequency')"
      ]
     },
     "execution_count": 19,
     "metadata": {},
     "output_type": "execute_result"
    },
    {
     "data": {
      "text/plain": [
       "<matplotlib.axes._subplots.AxesSubplot at 0x7ff8868687f0>"
      ]
     },
     "execution_count": 19,
     "metadata": {},
     "output_type": "execute_result"
    },
    {
     "data": {
      "text/plain": [
       "Text(0.5, 1.0, 'Luchun Fundamental Frequency')"
      ]
     },
     "execution_count": 19,
     "metadata": {},
     "output_type": "execute_result"
    },
    {
     "data": {
      "image/png": "[encoded data removed]",
      "text/plain": [
       "<Figure size 1080x864 with 9 Axes>"
      ]
     },
     "metadata": {
      "needs_background": "light"
     },
     "output_type": "display_data"
    }
   ],
   "source": [
    "# get the fundamental freqeuncy for each language. \n",
    "\n",
    "miao1 = voice_data[voice_data[\"Language\"] == \"Miao\"][\"sF0\"]\n",
    "mand1 = voice_data[voice_data[\"Language\"] == \"Mandarin\"][\"sF0\"]\n",
    "yi1 = voice_data[voice_data[\"Language\"] == \"Yi\"][\"sF0\"]\n",
    "guj1 = voice_data[voice_data[\"Language\"] == \"Gujarati\"][\"sF0\"]\n",
    "bo1 = voice_data[voice_data[\"Language\"] == \"Bo\"][\"sF0\"]\n",
    "maz1 = voice_data[voice_data[\"Language\"] == \"Mazatec\"][\"sF0\"]\n",
    "zap1 = voice_data[voice_data[\"Language\"] == \"Zapotec\"][\"sF0\"]\n",
    "hmong1 = voice_data[voice_data[\"Language\"] == \"Hmong\"][\"sF0\"]\n",
    "luch1 = voice_data[voice_data[\"Language\"] == \"Luchun\"][\"sF0\"]\n",
    "\n",
    "# set up subplots \n",
    "\n",
    "\n",
    "fig, ((ax1,ax2,ax3),(ax4,ax5,ax6),(ax7,ax8,ax9)) = plt.subplots(3,3, figsize=(15,12))\n",
    "\n",
    "#set axis of bar graphs\n",
    "\n",
    "miao1.hist(ax = ax1)\n",
    "ax1.grid(False)\n",
    "ax1.set_title(\"Miao Fundamental Frequency\")\n",
    "mand1.hist(ax =ax2)\n",
    "ax2.grid(False)\n",
    "ax2.set_title(\"Mandarin Fundamental Frequency\")\n",
    "yi1.hist(ax =ax3)\n",
    "ax3.grid(False)\n",
    "ax3.set_title(\"Yi Fundamental Frequency\")\n",
    "guj1.hist(ax =ax4)\n",
    "ax4.grid(False)\n",
    "ax4.set_title(\"Gujarati Fundamental Frequency\")\n",
    "bo1.hist(ax =ax5)\n",
    "ax5.grid(False)\n",
    "ax5.set_title(\"Bo Fundamental Frequency\")\n",
    "maz1.hist(ax =ax6)\n",
    "ax6.grid(False)\n",
    "ax6.set_title(\"Mazatec Fundamental Frequency\")\n",
    "zap1.hist(ax =ax7)\n",
    "ax7.grid(False)\n",
    "ax7.set_title(\"Zapotec Fundamental Frequency\")\n",
    "hmong1.hist(ax =ax8)\n",
    "ax8.grid(False)\n",
    "ax8.set_title(\"Hmong Fundamental Frequency\")\n",
    "luch1.hist(ax=ax9)\n",
    "ax9.grid(False)\n",
    "ax9.set_title(\"Luchun Fundamental Frequency\")\n",
    "\n"
   ]
  },
  {
   "cell_type": "markdown",
   "metadata": {},
   "source": [
    "We can see that some languages, such as Hmong, Luchun, Zapotec and Mandarin have a slightly lower median fundamental frequency around 125Hz. Miao, Mazatec, Gujarati and Bo seem to have a slightly higher distribution with a median aroun 150Hz. \n",
    "\n",
    "Next, we will run feature importance using a random forest model to find out which variables are the most important in determining a language."
   ]
  },
  {
   "cell_type": "code",
   "execution_count": 20,
   "metadata": {},
   "outputs": [],
   "source": [
    "#create voice f set which drops the language dummmy columns from voice_features\n",
    "\n",
    "voice_f = voice_features.drop([\"Lang_Yi\", \"Lang_Bo\", \"Lang_Gujarati\", \"Lang_Luchun\", \"Lang_Miao\", \"Lang_Mandarin\", \"Lang_Zapotec\", \"Lang_Mazatec\", \"Lang_Hmong\"],1)"
   ]
  },
  {
   "cell_type": "code",
   "execution_count": 21,
   "metadata": {},
   "outputs": [
    {
     "data": {
      "text/plain": [
       "RandomForestClassifier(random_state=42)"
      ]
     },
     "execution_count": 21,
     "metadata": {},
     "output_type": "execute_result"
    },
    {
     "data": {
      "text/plain": [
       "<Figure size 648x504 with 0 Axes>"
      ]
     },
     "execution_count": 21,
     "metadata": {},
     "output_type": "execute_result"
    },
    {
     "data": {
      "text/plain": [
       "<matplotlib.axes._subplots.AxesSubplot at 0x7ff88a9915b0>"
      ]
     },
     "execution_count": 21,
     "metadata": {},
     "output_type": "execute_result"
    },
    {
     "data": {
      "image/png": "[encoded data removed]",
      "text/plain": [
       "<Figure size 648x504 with 1 Axes>"
      ]
     },
     "metadata": {
      "needs_background": "light"
     },
     "output_type": "display_data"
    }
   ],
   "source": [
    "from sklearn.ensemble import RandomForestClassifier\n",
    "\n",
    "#train random forest\n",
    "\n",
    "randf = RandomForestClassifier(random_state=42)\n",
    "randf.fit(voice_f, voice_target)\n",
    "\n",
    "#rank the most important features\n",
    "\n",
    "feat_importances = pd.Series(randf.feature_importances_, index=voice_f.columns)\n",
    "\n",
    "#plot the 5 most important features \n",
    "\n",
    "plt.figure(figsize=(9,7))\n",
    "\n",
    "feat_importances.nlargest(5).sort_values(ascending= True).plot(kind='barh', title = \"Feature Importance\")\n"
   ]
  },
  {
   "cell_type": "markdown",
   "metadata": {},
   "source": [
    "We see that the first harmonic and three formants are the most important features. However, as seen earlier, this may be due to the high correlation with the Miao language. We will train the random forest again without the Miao language and see whether we get the same results."
   ]
  },
  {
   "cell_type": "code",
   "execution_count": 22,
   "metadata": {},
   "outputs": [],
   "source": [
    "# create new dataset without Miao language\n",
    "voice_data_noMiao = voice_data.loc[voice_data[\"Language\"].isin([\"Mandarin\", \"Yi\", \"Zapotec\", \"Gujarati\", \"Luchun\", \"Hmong\", \"Mazatec\", \"Bo\"])]\n",
    "\n",
    "#drop Miao dummy variable\n",
    "voice_data_noMiao = voice_data_noMiao.drop([\"Lang_Yi\", \"Lang_Bo\", \"Lang_Gujarati\", \"Lang_Luchun\", \"Lang_Miao\", \"Lang_Mandarin\", \"Lang_Zapotec\", \"Lang_Mazatec\", \"Lang_Hmong\"],1)\n",
    "\n",
    "#create new features and target variable\n",
    "voice_target_noMiao = voice_data_noMiao[\"Language\"]\n",
    "voice_features_noMiao = voice_data_noMiao.iloc[:, 2:]"
   ]
  },
  {
   "cell_type": "code",
   "execution_count": 23,
   "metadata": {},
   "outputs": [
    {
     "data": {
      "text/plain": [
       "RandomForestClassifier(random_state=42)"
      ]
     },
     "execution_count": 23,
     "metadata": {},
     "output_type": "execute_result"
    },
    {
     "data": {
      "text/plain": [
       "<Figure size 648x504 with 0 Axes>"
      ]
     },
     "execution_count": 23,
     "metadata": {},
     "output_type": "execute_result"
    },
    {
     "data": {
      "text/plain": [
       "<matplotlib.axes._subplots.AxesSubplot at 0x7ff88910eac0>"
      ]
     },
     "execution_count": 23,
     "metadata": {},
     "output_type": "execute_result"
    },
    {
     "data": {
      "image/png": "[encoded data removed]",
      "text/plain": [
       "<Figure size 648x504 with 1 Axes>"
      ]
     },
     "metadata": {
      "needs_background": "light"
     },
     "output_type": "display_data"
    }
   ],
   "source": [
    "# rerun random forest using new features data\n",
    "\n",
    "randf1 = RandomForestClassifier(random_state=42)\n",
    "randf1.fit(voice_features_noMiao, voice_target_noMiao)\n",
    "\n",
    "# rerun to find the most important features without Miao\n",
    "\n",
    "feat_importances1 = pd.Series(randf1.feature_importances_, index=voice_f.columns)\n",
    "\n",
    "#plot the 5 most important features \n",
    "\n",
    "plt.figure(figsize=(9,7))\n",
    "\n",
    "feat_importances1.nlargest(5).sort_values(ascending= True).plot(kind='barh', title = \"Feature Importance\")"
   ]
  },
  {
   "cell_type": "markdown",
   "metadata": {},
   "source": [
    "Indeed, without Miao, the feature importance changes to almost exclusively the phonation. However, interestingly the first harmonic remains the most important feature. Let's plot the variable to see the difference in languages."
   ]
  },
  {
   "cell_type": "code",
   "execution_count": 24,
   "metadata": {},
   "outputs": [
    {
     "data": {
      "text/plain": [
       "<Figure size 1008x792 with 0 Axes>"
      ]
     },
     "execution_count": 24,
     "metadata": {},
     "output_type": "execute_result"
    },
    {
     "data": {
      "text/plain": [
       "<matplotlib.axes._subplots.AxesSubplot at 0x7ff88a6a3e50>"
      ]
     },
     "execution_count": 24,
     "metadata": {},
     "output_type": "execute_result"
    },
    {
     "data": {
      "text/plain": [
       "Text(0.5, 1.0, 'First Harmonic in Hz per Language')"
      ]
     },
     "execution_count": 24,
     "metadata": {},
     "output_type": "execute_result"
    },
    {
     "data": {
      "text/plain": [
       "(array([0, 1, 2, 3, 4, 5, 6, 7, 8]),\n",
       " <a list of 9 Text major ticklabel objects>)"
      ]
     },
     "execution_count": 24,
     "metadata": {},
     "output_type": "execute_result"
    },
    {
     "data": {
      "text/plain": [
       "(array([-40., -30., -20., -10.,   0.,  10.,  20.,  30.,  40.,  50.]),\n",
       " <a list of 10 Text major ticklabel objects>)"
      ]
     },
     "execution_count": 24,
     "metadata": {},
     "output_type": "execute_result"
    },
    {
     "data": {
      "text/plain": [
       "Text(0.5, 0, 'Language')"
      ]
     },
     "execution_count": 24,
     "metadata": {},
     "output_type": "execute_result"
    },
    {
     "data": {
      "text/plain": [
       "Text(0, 0.5, 'Hz')"
      ]
     },
     "execution_count": 24,
     "metadata": {},
     "output_type": "execute_result"
    },
    {
     "data": {
      "image/png": "[encoded data removed]",
      "text/plain": [
       "<Figure size 1008x792 with 1 Axes>"
      ]
     },
     "metadata": {
      "needs_background": "light"
     },
     "output_type": "display_data"
    }
   ],
   "source": [
    "#set plotsize\n",
    "\n",
    "plt.figure(figsize=(14,11))\n",
    "\n",
    "#draw boxplot\n",
    "\n",
    "sns.boxplot(x=\"Language\", y=\"H1c\", data= voice_data, color = 'skyblue')\n",
    "plt.title(\"First Harmonic in Hz per Language\", fontsize= 16)\n",
    "plt.xticks(fontsize=13)\n",
    "plt.yticks(fontsize=13)\n",
    "plt.xlabel('Language',fontsize=15)\n",
    "plt.ylabel(\"Hz\" ,fontsize=15)"
   ]
  },
  {
   "cell_type": "markdown",
   "metadata": {},
   "source": [
    "Th boxplot above highlights how the first harmonic in Gujarati is substantially higher than those of the other languages. Moreover, the distribution is quite dense, with the majority of the data ranging from 5 to 35Hz. Similary, Mazatec, Mandarin and Hmong have a relatively small first harmonic range.\n",
    "\n",
    "Yi, Luchun, Zaptec and Bo, in contrast, have a large range meaning the range of their voices when speaking is higher than that of the other languages. The frequency range of a spoken language is interesting because it is quite a defining characteristic in the way we perceive languages."
   ]
  },
  {
   "cell_type": "markdown",
   "metadata": {},
   "source": [
    "# 5. Modelling Preparation"
   ]
  },
  {
   "cell_type": "markdown",
   "metadata": {},
   "source": [
    "## 5.1 Train-Test Split"
   ]
  },
  {
   "cell_type": "markdown",
   "metadata": {},
   "source": [
    "We will stratify our data based on language to ensure the training and test set have the same proportion of languages."
   ]
  },
  {
   "cell_type": "code",
   "execution_count": 25,
   "metadata": {
    "scrolled": true
   },
   "outputs": [],
   "source": [
    "#split data in training and test sets\n",
    "\n",
    "from sklearn.model_selection import train_test_split\n",
    "\n",
    "X_train, X_test, y_train, y_test = train_test_split(voice_f, voice_target, test_size = 0.3, random_state = 42, stratify = voice_target)"
   ]
  },
  {
   "cell_type": "code",
   "execution_count": 26,
   "metadata": {
    "scrolled": true
   },
   "outputs": [
    {
     "data": {
      "text/plain": [
       "Luchun      2594\n",
       "Gujarati    2325\n",
       "Bo          1714\n",
       "Yi          1585\n",
       "Hmong       1402\n",
       "Miao        1164\n",
       "Mazatec      359\n",
       "Mandarin     358\n",
       "Zapotec      235\n",
       "Name: Language, dtype: int64"
      ]
     },
     "execution_count": 26,
     "metadata": {},
     "output_type": "execute_result"
    }
   ],
   "source": [
    "#Find how many counts per Language there are\n",
    "\n",
    "y_train.value_counts()"
   ]
  },
  {
   "cell_type": "markdown",
   "metadata": {},
   "source": [
    "Zapotec, only has 235 which is less than 10% of the majority class. An issue with imbalanced data is that its skews the model's performance, often resulting in a high bias as more preictions will be classified to the majority class.\n",
    "\n",
    "In order to counteract this imbalance, we will create synthetic data using with SMOTE technique which oversamples classes so that each has the same amount as the majority class."
   ]
  },
  {
   "cell_type": "markdown",
   "metadata": {},
   "source": [
    "## 5.2 Synthetic Data and Scaling"
   ]
  },
  {
   "cell_type": "code",
   "execution_count": 31,
   "metadata": {
    "scrolled": true
   },
   "outputs": [
    {
     "ename": "ImportError",
     "evalue": "cannot import name 'delayed' from 'sklearn.utils.fixes' (/opt/anaconda/envs/Python3/lib/python3.8/site-packages/sklearn/utils/fixes.py)",
     "output_type": "error",
     "traceback": [
      "\u001b[0;31m---------------------------------------------------------------------------\u001b[0m",
      "\u001b[0;31mImportError\u001b[0m                               Traceback (most recent call last)",
      "\u001b[0;32m<ipython-input-31-4ed6fc0e88f3>\u001b[0m in \u001b[0;36m<module>\u001b[0;34m\u001b[0m\n\u001b[1;32m      1\u001b[0m \u001b[0;31m# create synthetic data using SMOTE for underrepresented classes\u001b[0m\u001b[0;34m\u001b[0m\u001b[0;34m\u001b[0m\u001b[0;34m\u001b[0m\u001b[0m\n\u001b[1;32m      2\u001b[0m \u001b[0;34m\u001b[0m\u001b[0m\n\u001b[0;32m----> 3\u001b[0;31m \u001b[0;32mfrom\u001b[0m \u001b[0mimblearn\u001b[0m\u001b[0;34m.\u001b[0m\u001b[0mover_sampling\u001b[0m \u001b[0;32mimport\u001b[0m \u001b[0mSMOTE\u001b[0m\u001b[0;34m\u001b[0m\u001b[0;34m\u001b[0m\u001b[0m\n\u001b[0m\u001b[1;32m      4\u001b[0m \u001b[0;34m\u001b[0m\u001b[0m\n\u001b[1;32m      5\u001b[0m \u001b[0msmote\u001b[0m \u001b[0;34m=\u001b[0m \u001b[0mSMOTE\u001b[0m\u001b[0;34m(\u001b[0m\u001b[0mrandom_state\u001b[0m \u001b[0;34m=\u001b[0m \u001b[0;36m42\u001b[0m\u001b[0;34m)\u001b[0m\u001b[0;34m\u001b[0m\u001b[0;34m\u001b[0m\u001b[0m\n",
      "\u001b[0;32m/opt/anaconda/envs/Python3/lib/python3.8/site-packages/imblearn/__init__.py\u001b[0m in \u001b[0;36m<module>\u001b[0;34m\u001b[0m\n\u001b[1;32m     35\u001b[0m \u001b[0;32mimport\u001b[0m \u001b[0mtypes\u001b[0m\u001b[0;34m\u001b[0m\u001b[0;34m\u001b[0m\u001b[0m\n\u001b[1;32m     36\u001b[0m \u001b[0;34m\u001b[0m\u001b[0m\n\u001b[0;32m---> 37\u001b[0;31m \u001b[0;32mfrom\u001b[0m \u001b[0;34m.\u001b[0m \u001b[0;32mimport\u001b[0m \u001b[0mcombine\u001b[0m\u001b[0;34m\u001b[0m\u001b[0;34m\u001b[0m\u001b[0m\n\u001b[0m\u001b[1;32m     38\u001b[0m \u001b[0;32mfrom\u001b[0m \u001b[0;34m.\u001b[0m \u001b[0;32mimport\u001b[0m \u001b[0mensemble\u001b[0m\u001b[0;34m\u001b[0m\u001b[0;34m\u001b[0m\u001b[0m\n\u001b[1;32m     39\u001b[0m \u001b[0;32mfrom\u001b[0m \u001b[0;34m.\u001b[0m \u001b[0;32mimport\u001b[0m \u001b[0mexceptions\u001b[0m\u001b[0;34m\u001b[0m\u001b[0;34m\u001b[0m\u001b[0m\n",
      "\u001b[0;32m/opt/anaconda/envs/Python3/lib/python3.8/site-packages/imblearn/combine/__init__.py\u001b[0m in \u001b[0;36m<module>\u001b[0;34m\u001b[0m\n\u001b[1;32m      3\u001b[0m \"\"\"\n\u001b[1;32m      4\u001b[0m \u001b[0;34m\u001b[0m\u001b[0m\n\u001b[0;32m----> 5\u001b[0;31m \u001b[0;32mfrom\u001b[0m \u001b[0;34m.\u001b[0m\u001b[0m_smote_enn\u001b[0m \u001b[0;32mimport\u001b[0m \u001b[0mSMOTEENN\u001b[0m\u001b[0;34m\u001b[0m\u001b[0;34m\u001b[0m\u001b[0m\n\u001b[0m\u001b[1;32m      6\u001b[0m \u001b[0;32mfrom\u001b[0m \u001b[0;34m.\u001b[0m\u001b[0m_smote_tomek\u001b[0m \u001b[0;32mimport\u001b[0m \u001b[0mSMOTETomek\u001b[0m\u001b[0;34m\u001b[0m\u001b[0;34m\u001b[0m\u001b[0m\n\u001b[1;32m      7\u001b[0m \u001b[0;34m\u001b[0m\u001b[0m\n",
      "\u001b[0;32m/opt/anaconda/envs/Python3/lib/python3.8/site-packages/imblearn/combine/_smote_enn.py\u001b[0m in \u001b[0;36m<module>\u001b[0;34m\u001b[0m\n\u001b[1;32m      9\u001b[0m \u001b[0;34m\u001b[0m\u001b[0m\n\u001b[1;32m     10\u001b[0m \u001b[0;32mfrom\u001b[0m \u001b[0;34m.\u001b[0m\u001b[0;34m.\u001b[0m\u001b[0mbase\u001b[0m \u001b[0;32mimport\u001b[0m \u001b[0mBaseSampler\u001b[0m\u001b[0;34m\u001b[0m\u001b[0;34m\u001b[0m\u001b[0m\n\u001b[0;32m---> 11\u001b[0;31m \u001b[0;32mfrom\u001b[0m \u001b[0;34m.\u001b[0m\u001b[0;34m.\u001b[0m\u001b[0mover_sampling\u001b[0m \u001b[0;32mimport\u001b[0m \u001b[0mSMOTE\u001b[0m\u001b[0;34m\u001b[0m\u001b[0;34m\u001b[0m\u001b[0m\n\u001b[0m\u001b[1;32m     12\u001b[0m \u001b[0;32mfrom\u001b[0m \u001b[0;34m.\u001b[0m\u001b[0;34m.\u001b[0m\u001b[0mover_sampling\u001b[0m\u001b[0;34m.\u001b[0m\u001b[0mbase\u001b[0m \u001b[0;32mimport\u001b[0m \u001b[0mBaseOverSampler\u001b[0m\u001b[0;34m\u001b[0m\u001b[0;34m\u001b[0m\u001b[0m\n\u001b[1;32m     13\u001b[0m \u001b[0;32mfrom\u001b[0m \u001b[0;34m.\u001b[0m\u001b[0;34m.\u001b[0m\u001b[0munder_sampling\u001b[0m \u001b[0;32mimport\u001b[0m \u001b[0mEditedNearestNeighbours\u001b[0m\u001b[0;34m\u001b[0m\u001b[0;34m\u001b[0m\u001b[0m\n",
      "\u001b[0;32m/opt/anaconda/envs/Python3/lib/python3.8/site-packages/imblearn/over_sampling/__init__.py\u001b[0m in \u001b[0;36m<module>\u001b[0;34m\u001b[0m\n\u001b[1;32m      6\u001b[0m \u001b[0;32mfrom\u001b[0m \u001b[0;34m.\u001b[0m\u001b[0m_adasyn\u001b[0m \u001b[0;32mimport\u001b[0m \u001b[0mADASYN\u001b[0m\u001b[0;34m\u001b[0m\u001b[0;34m\u001b[0m\u001b[0m\n\u001b[1;32m      7\u001b[0m \u001b[0;32mfrom\u001b[0m \u001b[0;34m.\u001b[0m\u001b[0m_random_over_sampler\u001b[0m \u001b[0;32mimport\u001b[0m \u001b[0mRandomOverSampler\u001b[0m\u001b[0;34m\u001b[0m\u001b[0;34m\u001b[0m\u001b[0m\n\u001b[0;32m----> 8\u001b[0;31m \u001b[0;32mfrom\u001b[0m \u001b[0;34m.\u001b[0m\u001b[0m_smote\u001b[0m \u001b[0;32mimport\u001b[0m \u001b[0mSMOTE\u001b[0m\u001b[0;34m\u001b[0m\u001b[0;34m\u001b[0m\u001b[0m\n\u001b[0m\u001b[1;32m      9\u001b[0m \u001b[0;32mfrom\u001b[0m \u001b[0;34m.\u001b[0m\u001b[0m_smote\u001b[0m \u001b[0;32mimport\u001b[0m \u001b[0mBorderlineSMOTE\u001b[0m\u001b[0;34m\u001b[0m\u001b[0;34m\u001b[0m\u001b[0m\n\u001b[1;32m     10\u001b[0m \u001b[0;32mfrom\u001b[0m \u001b[0;34m.\u001b[0m\u001b[0m_smote\u001b[0m \u001b[0;32mimport\u001b[0m \u001b[0mKMeansSMOTE\u001b[0m\u001b[0;34m\u001b[0m\u001b[0;34m\u001b[0m\u001b[0m\n",
      "\u001b[0;32m/opt/anaconda/envs/Python3/lib/python3.8/site-packages/imblearn/over_sampling/_smote/__init__.py\u001b[0m in \u001b[0;36m<module>\u001b[0;34m\u001b[0m\n\u001b[1;32m      3\u001b[0m \u001b[0;32mfrom\u001b[0m \u001b[0;34m.\u001b[0m\u001b[0mbase\u001b[0m \u001b[0;32mimport\u001b[0m \u001b[0mSMOTENC\u001b[0m\u001b[0;34m\u001b[0m\u001b[0;34m\u001b[0m\u001b[0m\n\u001b[1;32m      4\u001b[0m \u001b[0;34m\u001b[0m\u001b[0m\n\u001b[0;32m----> 5\u001b[0;31m \u001b[0;32mfrom\u001b[0m \u001b[0;34m.\u001b[0m\u001b[0mcluster\u001b[0m \u001b[0;32mimport\u001b[0m \u001b[0mKMeansSMOTE\u001b[0m\u001b[0;34m\u001b[0m\u001b[0;34m\u001b[0m\u001b[0m\n\u001b[0m\u001b[1;32m      6\u001b[0m \u001b[0;34m\u001b[0m\u001b[0m\n\u001b[1;32m      7\u001b[0m \u001b[0;32mfrom\u001b[0m \u001b[0;34m.\u001b[0m\u001b[0mfilter\u001b[0m \u001b[0;32mimport\u001b[0m \u001b[0mBorderlineSMOTE\u001b[0m\u001b[0;34m\u001b[0m\u001b[0;34m\u001b[0m\u001b[0m\n",
      "\u001b[0;32m/opt/anaconda/envs/Python3/lib/python3.8/site-packages/imblearn/over_sampling/_smote/cluster.py\u001b[0m in \u001b[0;36m<module>\u001b[0;34m\u001b[0m\n\u001b[1;32m     12\u001b[0m \u001b[0;34m\u001b[0m\u001b[0m\n\u001b[1;32m     13\u001b[0m \u001b[0;32mfrom\u001b[0m \u001b[0msklearn\u001b[0m\u001b[0;34m.\u001b[0m\u001b[0mbase\u001b[0m \u001b[0;32mimport\u001b[0m \u001b[0mclone\u001b[0m\u001b[0;34m\u001b[0m\u001b[0;34m\u001b[0m\u001b[0m\n\u001b[0;32m---> 14\u001b[0;31m \u001b[0;32mfrom\u001b[0m \u001b[0msklearn\u001b[0m\u001b[0;34m.\u001b[0m\u001b[0mcluster\u001b[0m \u001b[0;32mimport\u001b[0m \u001b[0mMiniBatchKMeans\u001b[0m\u001b[0;34m\u001b[0m\u001b[0;34m\u001b[0m\u001b[0m\n\u001b[0m\u001b[1;32m     15\u001b[0m \u001b[0;32mfrom\u001b[0m \u001b[0msklearn\u001b[0m\u001b[0;34m.\u001b[0m\u001b[0mmetrics\u001b[0m \u001b[0;32mimport\u001b[0m \u001b[0mpairwise_distances\u001b[0m\u001b[0;34m\u001b[0m\u001b[0;34m\u001b[0m\u001b[0m\n\u001b[1;32m     16\u001b[0m \u001b[0;32mfrom\u001b[0m \u001b[0msklearn\u001b[0m\u001b[0;34m.\u001b[0m\u001b[0mutils\u001b[0m \u001b[0;32mimport\u001b[0m \u001b[0m_safe_indexing\u001b[0m\u001b[0;34m\u001b[0m\u001b[0;34m\u001b[0m\u001b[0m\n",
      "\u001b[0;32m/opt/anaconda/envs/Python3/lib/python3.8/site-packages/sklearn/cluster/__init__.py\u001b[0m in \u001b[0;36m<module>\u001b[0;34m\u001b[0m\n\u001b[1;32m      4\u001b[0m \"\"\"\n\u001b[1;32m      5\u001b[0m \u001b[0;34m\u001b[0m\u001b[0m\n\u001b[0;32m----> 6\u001b[0;31m \u001b[0;32mfrom\u001b[0m \u001b[0;34m.\u001b[0m\u001b[0m_spectral\u001b[0m \u001b[0;32mimport\u001b[0m \u001b[0mspectral_clustering\u001b[0m\u001b[0;34m,\u001b[0m \u001b[0mSpectralClustering\u001b[0m\u001b[0;34m\u001b[0m\u001b[0;34m\u001b[0m\u001b[0m\n\u001b[0m\u001b[1;32m      7\u001b[0m from ._mean_shift import (mean_shift, MeanShift,\n\u001b[1;32m      8\u001b[0m                           estimate_bandwidth, get_bin_seeds)\n",
      "\u001b[0;32m/opt/anaconda/envs/Python3/lib/python3.8/site-packages/sklearn/cluster/_spectral.py\u001b[0m in \u001b[0;36m<module>\u001b[0;34m\u001b[0m\n\u001b[1;32m     16\u001b[0m \u001b[0;32mfrom\u001b[0m \u001b[0;34m.\u001b[0m\u001b[0;34m.\u001b[0m\u001b[0mmetrics\u001b[0m\u001b[0;34m.\u001b[0m\u001b[0mpairwise\u001b[0m \u001b[0;32mimport\u001b[0m \u001b[0mpairwise_kernels\u001b[0m\u001b[0;34m\u001b[0m\u001b[0;34m\u001b[0m\u001b[0m\n\u001b[1;32m     17\u001b[0m \u001b[0;32mfrom\u001b[0m \u001b[0;34m.\u001b[0m\u001b[0;34m.\u001b[0m\u001b[0mneighbors\u001b[0m \u001b[0;32mimport\u001b[0m \u001b[0mkneighbors_graph\u001b[0m\u001b[0;34m,\u001b[0m \u001b[0mNearestNeighbors\u001b[0m\u001b[0;34m\u001b[0m\u001b[0;34m\u001b[0m\u001b[0m\n\u001b[0;32m---> 18\u001b[0;31m \u001b[0;32mfrom\u001b[0m \u001b[0;34m.\u001b[0m\u001b[0;34m.\u001b[0m\u001b[0mmanifold\u001b[0m \u001b[0;32mimport\u001b[0m \u001b[0mspectral_embedding\u001b[0m\u001b[0;34m\u001b[0m\u001b[0;34m\u001b[0m\u001b[0m\n\u001b[0m\u001b[1;32m     19\u001b[0m \u001b[0;32mfrom\u001b[0m \u001b[0;34m.\u001b[0m\u001b[0m_kmeans\u001b[0m \u001b[0;32mimport\u001b[0m \u001b[0mk_means\u001b[0m\u001b[0;34m\u001b[0m\u001b[0;34m\u001b[0m\u001b[0m\n\u001b[1;32m     20\u001b[0m \u001b[0;34m\u001b[0m\u001b[0m\n",
      "\u001b[0;32m/opt/anaconda/envs/Python3/lib/python3.8/site-packages/sklearn/manifold/__init__.py\u001b[0m in \u001b[0;36m<module>\u001b[0;34m\u001b[0m\n\u001b[1;32m      5\u001b[0m \u001b[0;32mfrom\u001b[0m \u001b[0;34m.\u001b[0m\u001b[0m_locally_linear\u001b[0m \u001b[0;32mimport\u001b[0m \u001b[0mlocally_linear_embedding\u001b[0m\u001b[0;34m,\u001b[0m \u001b[0mLocallyLinearEmbedding\u001b[0m\u001b[0;34m\u001b[0m\u001b[0;34m\u001b[0m\u001b[0m\n\u001b[1;32m      6\u001b[0m \u001b[0;32mfrom\u001b[0m \u001b[0;34m.\u001b[0m\u001b[0m_isomap\u001b[0m \u001b[0;32mimport\u001b[0m \u001b[0mIsomap\u001b[0m\u001b[0;34m\u001b[0m\u001b[0;34m\u001b[0m\u001b[0m\n\u001b[0;32m----> 7\u001b[0;31m \u001b[0;32mfrom\u001b[0m \u001b[0;34m.\u001b[0m\u001b[0m_mds\u001b[0m \u001b[0;32mimport\u001b[0m \u001b[0mMDS\u001b[0m\u001b[0;34m,\u001b[0m \u001b[0msmacof\u001b[0m\u001b[0;34m\u001b[0m\u001b[0;34m\u001b[0m\u001b[0m\n\u001b[0m\u001b[1;32m      8\u001b[0m \u001b[0;32mfrom\u001b[0m \u001b[0;34m.\u001b[0m\u001b[0m_spectral_embedding\u001b[0m \u001b[0;32mimport\u001b[0m \u001b[0mSpectralEmbedding\u001b[0m\u001b[0;34m,\u001b[0m \u001b[0mspectral_embedding\u001b[0m\u001b[0;34m\u001b[0m\u001b[0;34m\u001b[0m\u001b[0m\n\u001b[1;32m      9\u001b[0m \u001b[0;32mfrom\u001b[0m \u001b[0;34m.\u001b[0m\u001b[0m_t_sne\u001b[0m \u001b[0;32mimport\u001b[0m \u001b[0mTSNE\u001b[0m\u001b[0;34m,\u001b[0m \u001b[0mtrustworthiness\u001b[0m\u001b[0;34m\u001b[0m\u001b[0;34m\u001b[0m\u001b[0m\n",
      "\u001b[0;32m/opt/anaconda/envs/Python3/lib/python3.8/site-packages/sklearn/manifold/_mds.py\u001b[0m in \u001b[0;36m<module>\u001b[0;34m\u001b[0m\n\u001b[1;32m     17\u001b[0m \u001b[0;32mfrom\u001b[0m \u001b[0;34m.\u001b[0m\u001b[0;34m.\u001b[0m\u001b[0mutils\u001b[0m\u001b[0;34m.\u001b[0m\u001b[0mvalidation\u001b[0m \u001b[0;32mimport\u001b[0m \u001b[0m_deprecate_positional_args\u001b[0m\u001b[0;34m\u001b[0m\u001b[0;34m\u001b[0m\u001b[0m\n\u001b[1;32m     18\u001b[0m \u001b[0;32mfrom\u001b[0m \u001b[0;34m.\u001b[0m\u001b[0;34m.\u001b[0m\u001b[0mutils\u001b[0m\u001b[0;34m.\u001b[0m\u001b[0mdeprecation\u001b[0m \u001b[0;32mimport\u001b[0m \u001b[0mdeprecated\u001b[0m\u001b[0;34m\u001b[0m\u001b[0;34m\u001b[0m\u001b[0m\n\u001b[0;32m---> 19\u001b[0;31m \u001b[0;32mfrom\u001b[0m \u001b[0;34m.\u001b[0m\u001b[0;34m.\u001b[0m\u001b[0mutils\u001b[0m\u001b[0;34m.\u001b[0m\u001b[0mfixes\u001b[0m \u001b[0;32mimport\u001b[0m \u001b[0mdelayed\u001b[0m\u001b[0;34m\u001b[0m\u001b[0;34m\u001b[0m\u001b[0m\n\u001b[0m\u001b[1;32m     20\u001b[0m \u001b[0;34m\u001b[0m\u001b[0m\n\u001b[1;32m     21\u001b[0m \u001b[0;34m\u001b[0m\u001b[0m\n",
      "\u001b[0;31mImportError\u001b[0m: cannot import name 'delayed' from 'sklearn.utils.fixes' (/opt/anaconda/envs/Python3/lib/python3.8/site-packages/sklearn/utils/fixes.py)"
     ]
    }
   ],
   "source": [
    "# create synthetic data using SMOTE for underrepresented classes\n",
    "\n",
    "from imblearn.over_sampling import SMOTE\n",
    "\n",
    "smote = SMOTE(random_state = 42)\n",
    "X_train, y_train = smote.fit_resample(X_train, y_train)\n",
    "y_train.value_counts()"
   ]
  },
  {
   "cell_type": "markdown",
   "metadata": {},
   "source": [
    "We can now consider scaling our features. This form of standardisation subtracts the mean value and divides by the standard deviation of the variable, thus creating a mean centering around 0 for each variable.\n",
    "\n",
    "Standardisation improves the performance for certain models such as Support Vector Machines as the model will treat each scaled variable with the same weight."
   ]
  },
  {
   "cell_type": "code",
   "execution_count": null,
   "metadata": {
    "scrolled": true
   },
   "outputs": [],
   "source": [
    "# scale data using StandardScaler\n",
    "\n",
    "from sklearn.preprocessing import StandardScaler\n",
    "scaler = StandardScaler()\n",
    "\n",
    "X_train = scaler.fit_transform(X_train)\n",
    "X_test = scaler.fit_transform(X_test)"
   ]
  },
  {
   "cell_type": "markdown",
   "metadata": {},
   "source": [
    "## 5.3 Principal Component Analysis"
   ]
  },
  {
   "cell_type": "markdown",
   "metadata": {},
   "source": [
    "We still have 47 variables, some of which are very highly correlated (as seen in the correlation table above). Highly correlated independent variables can cause multicollinearity problems with certain models. To address this, we can perform principal component analysis.\n",
    "\n",
    "First, we will reduce the number of components to 3 and visualise our data to get a better understanding of where our data lies."
   ]
  },
  {
   "cell_type": "code",
   "execution_count": null,
   "metadata": {},
   "outputs": [],
   "source": [
    "# compress data to three components using PCA\n",
    "\n",
    "from sklearn.decomposition import PCA\n",
    "\n",
    "pca = PCA(n_components= 3).fit(X_train)\n",
    "\n",
    "#see how much variance each principal component explains\n",
    "\n",
    "pca.explained_variance_ratio_"
   ]
  },
  {
   "cell_type": "code",
   "execution_count": 32,
   "metadata": {},
   "outputs": [
    {
     "data": {
      "text/plain": [
       "{'Bo': 0,\n",
       " 'Gujarati': 1,\n",
       " 'Hmong': 2,\n",
       " 'Luchun': 3,\n",
       " 'Mandarin': 4,\n",
       " 'Mazatec': 5,\n",
       " 'Miao': 6,\n",
       " 'Yi': 7,\n",
       " 'Zapotec': 8}"
      ]
     },
     "execution_count": 32,
     "metadata": {},
     "output_type": "execute_result"
    }
   ],
   "source": [
    "#Create dictionary to prepare for PCA visualisation\n",
    "\n",
    "y = y_train.astype('category')\n",
    "d = dict(enumerate(y.cat.categories))\n",
    "\n",
    "#swap key and values and map to new variable so we have a legend on the PCA visualisation.\n",
    "dic = {value:key for key, value in d.items()}\n",
    "dic\n",
    "y3d = y_train.map(dic)"
   ]
  },
  {
   "cell_type": "code",
   "execution_count": 33,
   "metadata": {},
   "outputs": [
    {
     "data": {
      "text/plain": [
       "15304    6\n",
       "12955    0\n",
       "3305     7\n",
       "12277    8\n",
       "13731    0\n",
       "        ..\n",
       "7645     7\n",
       "6914     1\n",
       "15920    6\n",
       "16368    6\n",
       "11829    3\n",
       "Name: Language, Length: 11736, dtype: int64"
      ]
     },
     "execution_count": 33,
     "metadata": {},
     "output_type": "execute_result"
    }
   ],
   "source": [
    "y3d"
   ]
  },
  {
   "cell_type": "code",
   "execution_count": 34,
   "metadata": {},
   "outputs": [
    {
     "ename": "NameError",
     "evalue": "name 'pca' is not defined",
     "output_type": "error",
     "traceback": [
      "\u001b[0;31m---------------------------------------------------------------------------\u001b[0m",
      "\u001b[0;31mNameError\u001b[0m                                 Traceback (most recent call last)",
      "\u001b[0;32m<ipython-input-34-3c1c7aeb9c7f>\u001b[0m in \u001b[0;36m<module>\u001b[0;34m\u001b[0m\n\u001b[1;32m      5\u001b[0m \u001b[0;34m\u001b[0m\u001b[0m\n\u001b[1;32m      6\u001b[0m \u001b[0;31m# Store results of PCA in a data frame\u001b[0m\u001b[0;34m\u001b[0m\u001b[0;34m\u001b[0m\u001b[0;34m\u001b[0m\u001b[0m\n\u001b[0;32m----> 7\u001b[0;31m \u001b[0mresult\u001b[0m\u001b[0;34m=\u001b[0m\u001b[0mpd\u001b[0m\u001b[0;34m.\u001b[0m\u001b[0mDataFrame\u001b[0m\u001b[0;34m(\u001b[0m\u001b[0mpca\u001b[0m\u001b[0;34m.\u001b[0m\u001b[0mtransform\u001b[0m\u001b[0;34m(\u001b[0m\u001b[0mX_train\u001b[0m\u001b[0;34m)\u001b[0m\u001b[0;34m,\u001b[0m \u001b[0mcolumns\u001b[0m\u001b[0;34m=\u001b[0m\u001b[0;34m[\u001b[0m\u001b[0;34m'PCA%i'\u001b[0m \u001b[0;34m%\u001b[0m \u001b[0mi\u001b[0m \u001b[0;32mfor\u001b[0m \u001b[0mi\u001b[0m \u001b[0;32min\u001b[0m \u001b[0mrange\u001b[0m\u001b[0;34m(\u001b[0m\u001b[0;36m3\u001b[0m\u001b[0;34m)\u001b[0m\u001b[0;34m]\u001b[0m\u001b[0;34m)\u001b[0m\u001b[0;34m\u001b[0m\u001b[0;34m\u001b[0m\u001b[0m\n\u001b[0m\u001b[1;32m      8\u001b[0m \u001b[0;34m\u001b[0m\u001b[0m\n\u001b[1;32m      9\u001b[0m \u001b[0;31m# Plot initialisation\u001b[0m\u001b[0;34m\u001b[0m\u001b[0;34m\u001b[0m\u001b[0;34m\u001b[0m\u001b[0m\n",
      "\u001b[0;31mNameError\u001b[0m: name 'pca' is not defined"
     ]
    }
   ],
   "source": [
    "# 3D visualise. Code structure from https://python-graph-gallery.com/372-3d-pca-result/\n",
    "\n",
    "from mpl_toolkits.mplot3d import Axes3D\n",
    "\n",
    "\n",
    "# Store results of PCA in a data frame\n",
    "result=pd.DataFrame(pca.transform(X_train), columns=['PCA%i' % i for i in range(3)])\n",
    " \n",
    "# Plot initialisation\n",
    "fig = plt.figure(figsize=(22,15))\n",
    "ax = fig.add_subplot(111, projection='3d')\n",
    "p = ax.scatter(result['PCA0'], result['PCA1'], result['PCA2'], c = y3d ,cmap=plt.cm.get_cmap('nipy_spectral',9), alpha=0.5)\n",
    " \n",
    "# make simple, bare axis lines through space:\n",
    "xAxisLine = ((min(result['PCA0']), max(result['PCA0'])), (0, 0), (0,0))\n",
    "ax.plot(xAxisLine[0], xAxisLine[1], xAxisLine[2], 'r')\n",
    "yAxisLine = ((0, 0), (min(result['PCA1']), max(result['PCA1'])), (0,0))\n",
    "ax.plot(yAxisLine[0], yAxisLine[1], yAxisLine[2], 'r')\n",
    "zAxisLine = ((0, 0), (0,0), (min(result['PCA2']), max(result['PCA2'])))\n",
    "ax.plot(zAxisLine[0], zAxisLine[1], zAxisLine[2], 'r')\n",
    " \n",
    "# label and shape the axes\n",
    "ax.set_xlabel(\"component 1\", fontsize =14)\n",
    "ax.set_xlim([-7.5, 6.5])\n",
    "ax.set_ylabel(\"component 2\", fontsize =14)\n",
    "ax.set_ylim([-5,6])\n",
    "ax.set_zlabel(\"component 3\", fontsize =14)\n",
    "ax.set_zlim([-7.5,6])\n",
    "ax.set_title(\"Three-Dimensional PCA\", fontsize =20)\n",
    "fig.colorbar(p)\n",
    "dic"
   ]
  },
  {
   "cell_type": "markdown",
   "metadata": {},
   "source": [
    "We can see some clusters in the visualisation above such as Miao (6) in the top of the graph and Gujarati (1) just below it.\n",
    "\n",
    "Nevertheless for our modelling we need to retain more variation in the data. To find the optimal components we can draw the cumulative variance exaplained for each number of components.\n"
   ]
  },
  {
   "cell_type": "code",
   "execution_count": 39,
   "metadata": {},
   "outputs": [
    {
     "data": {
      "text/plain": [
       "[<matplotlib.lines.Line2D at 0x1e881355508>]"
      ]
     },
     "execution_count": 39,
     "metadata": {},
     "output_type": "execute_result"
    },
    {
     "data": {
      "text/plain": [
       "Text(0.5, 0, 'Number of components')"
      ]
     },
     "execution_count": 39,
     "metadata": {},
     "output_type": "execute_result"
    },
    {
     "data": {
      "text/plain": [
       "Text(0, 0.5, 'Cumulative Variance Explained')"
      ]
     },
     "execution_count": 39,
     "metadata": {},
     "output_type": "execute_result"
    },
    {
     "data": {
      "image/png": "[encoded data removed]",
      "text/plain": [
       "<Figure size 432x288 with 1 Axes>"
      ]
     },
     "metadata": {
      "needs_background": "light"
     },
     "output_type": "display_data"
    }
   ],
   "source": [
    "#data structure from https://jakevdp.github.io/PythonDataScienceHandbook/05.09-principal-component-analysis.html\n",
    "\n",
    "#fit pca to training data\n",
    "\n",
    "pca = PCA().fit(X_train)\n",
    "\n",
    "#plot the cumulative variance explained\n",
    "\n",
    "plt.plot(np.cumsum(pca.explained_variance_ratio_))\n",
    "plt.xlabel('Number of components')\n",
    "plt.ylabel('Cumulative Variance Explained')"
   ]
  },
  {
   "cell_type": "markdown",
   "metadata": {},
   "source": [
    "Unfortunately, there is no clear 'elbow' in the graph to help us draw the line. Instead, we can choose the number of components based the amount of variance we wish to retain.\n",
    "\n",
    "The PCA below compresses the number of variables down to 20 from 47 whilst retaining 95% of the variance. In addition to saving space, the PCA will also decrease the run-time of our models and help prevent overfitting."
   ]
  },
  {
   "cell_type": "code",
   "execution_count": 40,
   "metadata": {
    "scrolled": true
   },
   "outputs": [
    {
     "data": {
      "text/plain": [
       "20"
      ]
     },
     "execution_count": 40,
     "metadata": {},
     "output_type": "execute_result"
    }
   ],
   "source": [
    "#train pca to retain 95% of the variance\n",
    "\n",
    "pca = PCA(n_components= 0.95)\n",
    "\n",
    "# fit it to the training data and transform the test data\n",
    "X_train = pca.fit_transform(X_train)\n",
    "X_test = pca.transform(X_test)\n",
    "\n",
    "#return how many components we are left with\n",
    "\n",
    "pca.n_components_"
   ]
  },
  {
   "cell_type": "markdown",
   "metadata": {},
   "source": [
    "# 6. Models"
   ]
  },
  {
   "cell_type": "markdown",
   "metadata": {},
   "source": [
    "We can now start building our models."
   ]
  },
  {
   "cell_type": "markdown",
   "metadata": {},
   "source": [
    "## 6.1 Support Vector Machine"
   ]
  },
  {
   "cell_type": "code",
   "execution_count": 41,
   "metadata": {},
   "outputs": [
    {
     "data": {
      "text/plain": [
       "SVC(random_state=42)"
      ]
     },
     "execution_count": 41,
     "metadata": {},
     "output_type": "execute_result"
    }
   ],
   "source": [
    "from sklearn.svm import SVC\n",
    "\n",
    "#train and fit SVM on training data\n",
    "\n",
    "poly_svc = SVC(random_state = 42)\n",
    "\n",
    "poly_svc.fit(X_train, y_train)\n"
   ]
  },
  {
   "cell_type": "code",
   "execution_count": 42,
   "metadata": {},
   "outputs": [
    {
     "name": "stdout",
     "output_type": "stream",
     "text": [
      "0.91 training precision score\n",
      "0.91 training recall score\n"
     ]
    }
   ],
   "source": [
    "#see how the SVM performs on the training data\n",
    "\n",
    "from sklearn.metrics import accuracy_score\n",
    "from sklearn.metrics import recall_score\n",
    "from sklearn.metrics import precision_score\n",
    "\n",
    "\n",
    "y_pred_svc = poly_svc.predict(X_train)\n",
    "\n",
    "\n",
    "prec_score_svc = precision_score(y_train, y_pred_svc, average = 'macro')\n",
    "print(\"%0.2f training precision score\" % (prec_score_svc))\n",
    "\n",
    "      \n",
    "rec_score_svc = recall_score(y_train, y_pred_svc, average = 'macro')\n",
    "print(\"%0.2f training recall score\" % (rec_score_svc))"
   ]
  },
  {
   "cell_type": "markdown",
   "metadata": {},
   "source": [
    "Let's see if we can improve the score using grid search to tune our hyperparameters."
   ]
  },
  {
   "cell_type": "code",
   "execution_count": null,
   "metadata": {},
   "outputs": [],
   "source": [
    "# run grid search to see whether we can increase its performance\n",
    "\n",
    "param_grid = {\n",
    "    'C':[0.5,1,3,5,8],'gamma':[0.5,1,3,5,8], 'kernel':['linear','rbf', 'poly']\n",
    "}\n",
    "\n",
    "grid_search = GridSearchCV(poly_svc, param_grid=param_grid, cv= 2, verbose=3, n_jobs=-1)\n",
    "grid_search.fit(X_train, y_train)\n",
    "grid_search.best_params_\n"
   ]
  },
  {
   "cell_type": "code",
   "execution_count": 44,
   "metadata": {},
   "outputs": [
    {
     "data": {
      "text/plain": [
       "SVC(C=1, gamma=0.5, kernel='poly', probability=True, random_state=42)"
      ]
     },
     "execution_count": 44,
     "metadata": {},
     "output_type": "execute_result"
    }
   ],
   "source": [
    "#use fine tuned parameters to retrain the SVM\n",
    "\n",
    "poly_svc_grid = SVC(kernel='poly', degree=3, C=1, gamma = 0.5, probability = True, random_state = 42)\n",
    "\n",
    "poly_svc_grid.fit(X_train, y_train)\n",
    "\n"
   ]
  },
  {
   "cell_type": "code",
   "execution_count": 45,
   "metadata": {},
   "outputs": [
    {
     "name": "stdout",
     "output_type": "stream",
     "text": [
      "1.00 training precision score\n",
      "1.00 training recall score\n"
     ]
    }
   ],
   "source": [
    "#check performance on training data\n",
    "\n",
    "y_pred_svc_grid = poly_svc_grid.predict(X_train)\n",
    "\n",
    "\n",
    "prec_score_svc_grid = precision_score(y_train, y_pred_svc_grid, average = 'macro')\n",
    "print(\"%0.2f training precision score\" % (prec_score_svc_grid))\n",
    "\n",
    "      \n",
    "rec_score_svc_grid = recall_score(y_train, y_pred_svc_grid, average = 'macro')\n",
    "print(\"%0.2f training recall score\" % (rec_score_svc_grid))"
   ]
  },
  {
   "cell_type": "markdown",
   "metadata": {},
   "source": [
    "## 6.2 Random Forest"
   ]
  },
  {
   "cell_type": "code",
   "execution_count": 46,
   "metadata": {
    "scrolled": true
   },
   "outputs": [
    {
     "data": {
      "text/plain": [
       "RandomForestClassifier(random_state=42)"
      ]
     },
     "execution_count": 46,
     "metadata": {},
     "output_type": "execute_result"
    }
   ],
   "source": [
    "#train random forest  \n",
    "\n",
    "rf = RandomForestClassifier(random_state=42)\n",
    "rf.fit(X_train, y_train)\n"
   ]
  },
  {
   "cell_type": "code",
   "execution_count": 47,
   "metadata": {
    "scrolled": true
   },
   "outputs": [
    {
     "name": "stdout",
     "output_type": "stream",
     "text": [
      "1.00 training precision score\n",
      "1.00 training recall score\n"
     ]
    }
   ],
   "source": [
    "#check score against training data\n",
    "\n",
    "y_pred_rf = rf.predict(X_train)\n",
    "\n",
    "prec_score_rf = precision_score(y_train, y_pred_rf, average = 'macro')\n",
    "print(\"%0.2f training precision score\" % (prec_score_rf))\n",
    "      \n",
    "rec_score_rf = recall_score(y_train, y_pred_rf, average = 'macro')\n",
    "print(\"%0.2f training recall score\" % (rec_score_rf))"
   ]
  },
  {
   "cell_type": "markdown",
   "metadata": {},
   "source": [
    "As we are dealing with a multiclassification problem, we will use the 'macro' way of calculating scores. Macro takes the scores of each class and produces the average.\n",
    "\n",
    "We received 100% precision and recall on the training set with SVM and random forest. However, the models are likely overfit. We will therefore look at some further models before combining them in a voting classifier.\n"
   ]
  },
  {
   "cell_type": "code",
   "execution_count": 61,
   "metadata": {
    "scrolled": true
   },
   "outputs": [],
   "source": [
    "#do a grid search to improve random forest result\n",
    "param_grid = {\n",
    "    'bootstrap': [True],\n",
    "    'criterion': [\"gini\", \"entropy\"],\n",
    "    'max_depth': [20, 25, 30],\n",
    "    'max_features': [1, 2, 3],\n",
    "    'min_samples_leaf': [1, 2, 3],\n",
    "    'min_samples_split': [1 ,2, 3],\n",
    "    'n_estimators': [200, 300, 400]\n",
    "}\n",
    "\n",
    "# grid_search = GridSearchCV(rf, param_grid=param_grid, cv= 2, verbose=3, n_jobs=-1)\n",
    "# grid_search.fit(X_train, y_train)\n",
    "#grid_search.best_params_"
   ]
  },
  {
   "cell_type": "code",
   "execution_count": 48,
   "metadata": {},
   "outputs": [
    {
     "data": {
      "text/plain": [
       "RandomForestClassifier(criterion='entropy', max_depth=15, max_features=2,\n",
       "                       n_estimators=200, random_state=42)"
      ]
     },
     "execution_count": 48,
     "metadata": {},
     "output_type": "execute_result"
    }
   ],
   "source": [
    "#retrain model with fine tuned hyperparameters\n",
    "\n",
    "rf2 = RandomForestClassifier(max_depth = 15, \n",
    "                             criterion = 'entropy', \n",
    "                             max_features = 2, \n",
    "                             min_samples_leaf = 1, \n",
    "                             min_samples_split = 2, \n",
    "                             n_estimators = 200, \n",
    "                             random_state = 42)\n",
    "rf2.fit(X_train, y_train)\n"
   ]
  },
  {
   "cell_type": "code",
   "execution_count": 49,
   "metadata": {},
   "outputs": [
    {
     "name": "stdout",
     "output_type": "stream",
     "text": [
      "1.00 train precision score\n",
      "1.00 train recall score\n"
     ]
    }
   ],
   "source": [
    "#check prediction against training data\n",
    "\n",
    "y_pred_rf2 = rf2.predict(X_train)\n",
    "\n",
    "prec_score_rf2 = precision_score(y_train, y_pred_rf2, average = 'macro')\n",
    "print(\"%0.2f train precision score\" % (prec_score_rf2))\n",
    "\n",
    "      \n",
    "rec_score_rf2 = recall_score(y_train, y_pred_rf2, average = 'macro')\n",
    "print(\"%0.2f train recall score\" % (rec_score_rf2))"
   ]
  },
  {
   "cell_type": "markdown",
   "metadata": {},
   "source": [
    "## 6.3 XGBoost Forest"
   ]
  },
  {
   "cell_type": "code",
   "execution_count": 50,
   "metadata": {
    "scrolled": true
   },
   "outputs": [
    {
     "data": {
      "text/plain": [
       "GradientBoostingClassifier(n_estimators=200, n_iter_no_change=5,\n",
       "                           random_state=42, tol=0.01, validation_fraction=0.2)"
      ]
     },
     "execution_count": 50,
     "metadata": {},
     "output_type": "execute_result"
    }
   ],
   "source": [
    "from sklearn.ensemble import GradientBoostingClassifier\n",
    "\n",
    "#train gradient boosted random forest model\n",
    "\n",
    "gbc = GradientBoostingClassifier(n_estimators= 200, validation_fraction=0.2, n_iter_no_change=5, tol=0.01, random_state= 42)\n",
    "gbc.fit(X_train, y_train)\n"
   ]
  },
  {
   "cell_type": "markdown",
   "metadata": {},
   "source": [
    "In order to prevent overfitting, we have implemented early stopping for our gradient boosted model which stops as soon as a new iteration does not increase performance as tested against the validation set by 0.01."
   ]
  },
  {
   "cell_type": "code",
   "execution_count": 51,
   "metadata": {
    "scrolled": true
   },
   "outputs": [
    {
     "name": "stdout",
     "output_type": "stream",
     "text": [
      "0.86 training precision score\n",
      "0.86 training recall score\n"
     ]
    }
   ],
   "source": [
    "#check performance on training data\n",
    "\n",
    "y_pred_gbc = gbc.predict(X_train)\n",
    "\n",
    "prec_score_gbc = precision_score(y_train, y_pred_gbc, average = 'macro')\n",
    "print(\"%0.2f training precision score\" % (prec_score_gbc))\n",
    "      \n",
    "rec_score_gbc = recall_score(y_train, y_pred_gbc, average = 'macro')\n",
    "print(\"%0.2f training recall score\" % (rec_score_gbc))\n"
   ]
  },
  {
   "cell_type": "markdown",
   "metadata": {},
   "source": [
    "## 6.4 Voting Classifier"
   ]
  },
  {
   "cell_type": "code",
   "execution_count": 52,
   "metadata": {
    "scrolled": true
   },
   "outputs": [
    {
     "data": {
      "text/plain": [
       "VotingClassifier(estimators=[('rf2',\n",
       "                              RandomForestClassifier(criterion='entropy',\n",
       "                                                     max_depth=15,\n",
       "                                                     max_features=2,\n",
       "                                                     n_estimators=200,\n",
       "                                                     random_state=42)),\n",
       "                             ('gbc',\n",
       "                              GradientBoostingClassifier(n_estimators=200,\n",
       "                                                         n_iter_no_change=5,\n",
       "                                                         random_state=42,\n",
       "                                                         tol=0.01,\n",
       "                                                         validation_fraction=0.2)),\n",
       "                             ('poly_svc_grid',\n",
       "                              SVC(C=1, gamma=0.5, kernel='poly',\n",
       "                                  probability=True, random_state=42))],\n",
       "                 voting='soft')"
      ]
     },
     "execution_count": 52,
     "metadata": {},
     "output_type": "execute_result"
    }
   ],
   "source": [
    "from sklearn.ensemble import VotingClassifier\n",
    "\n",
    "voting_clf = VotingClassifier(\n",
    "    estimators=[('rf2', rf2), ('gbc', gbc), ('poly_svc_grid', poly_svc_grid)],\n",
    "    voting='soft')\n",
    "\n",
    "voting_clf.fit(X_train, y_train)\n"
   ]
  },
  {
   "cell_type": "markdown",
   "metadata": {},
   "source": [
    "For the voting classifier we choose the fine tuned SVM, random Forest and boosted random Forest. The ensemble benefits from the fact that each model will make different errors and therefore the aggregation should minimise the total errors. The soft voting means that it will choose the class based on a probability vote."
   ]
  },
  {
   "cell_type": "code",
   "execution_count": 53,
   "metadata": {
    "scrolled": true
   },
   "outputs": [
    {
     "name": "stdout",
     "output_type": "stream",
     "text": [
      "0.99 training precision score\n",
      "0.99 training recall score\n"
     ]
    }
   ],
   "source": [
    "#check performance against training set\n",
    "\n",
    "y_pred_vot = voting_clf.predict(X_train)\n",
    "\n",
    "prec_score_vot = precision_score(y_train, y_pred_vot, average = 'macro')\n",
    "print(\"%0.2f training precision score\" % (prec_score_vot))\n",
    "\n",
    "      \n",
    "rec_score_vot = recall_score(y_train, y_pred_vot, average = 'macro')\n",
    "print(\"%0.2f training recall score\" % (rec_score_vot))"
   ]
  },
  {
   "cell_type": "code",
   "execution_count": 54,
   "metadata": {
    "scrolled": true
   },
   "outputs": [
    {
     "name": "stdout",
     "output_type": "stream",
     "text": [
      "0.81 test precision score\n",
      "0.83 test recall score\n"
     ]
    }
   ],
   "source": [
    "#check performance on test set\n",
    "\n",
    "y_pred_vot_test = voting_clf.predict(X_test)\n",
    "\n",
    "\n",
    "prec_score_vot_test = precision_score(y_test, y_pred_vot_test, average = 'macro')\n",
    "print(\"%0.2f test precision score\" % (prec_score_vot_test))\n",
    "\n",
    "      \n",
    "rec_score_vot_test = recall_score(y_test, y_pred_vot_test, average = 'macro')\n",
    "print(\"%0.2f test recall score\" % (rec_score_vot_test))"
   ]
  },
  {
   "cell_type": "code",
   "execution_count": 55,
   "metadata": {
    "scrolled": true
   },
   "outputs": [
    {
     "name": "stdout",
     "output_type": "stream",
     "text": [
      "              precision    recall  f1-score   support\n",
      "\n",
      "          Bo       0.60      0.70      0.65       735\n",
      "    Gujarati       0.98      0.95      0.96       997\n",
      "       Hmong       0.91      0.90      0.90       601\n",
      "      Luchun       0.78      0.72      0.75      1111\n",
      "    Mandarin       0.84      0.94      0.89       154\n",
      "     Mazatec       0.68      0.91      0.78       153\n",
      "        Miao       1.00      1.00      1.00       499\n",
      "          Yi       0.72      0.66      0.69       679\n",
      "     Zapotec       0.74      0.71      0.73       101\n",
      "\n",
      "    accuracy                           0.81      5030\n",
      "   macro avg       0.81      0.83      0.82      5030\n",
      "weighted avg       0.82      0.81      0.82      5030\n",
      "\n"
     ]
    }
   ],
   "source": [
    "#look at how model performed on individual language\n",
    "\n",
    "from sklearn.metrics import classification_report\n",
    "\n",
    "report = classification_report(y_test, y_pred_vot_test)\n",
    "print(report)"
   ]
  },
  {
   "cell_type": "markdown",
   "metadata": {},
   "source": [
    "# 7. Conclusion"
   ]
  },
  {
   "cell_type": "markdown",
   "metadata": {},
   "source": [
    "From the table above, we can see that we achieved an accuracy of 0.81. The precision score of 0.81 means that when the model identified a language, it was right 81% of the time. The recall score of 0.83 means that each langauge spoken was correctly identified 83% of the time.\n",
    "\n",
    "As there are 9 languages, a completely random model would score an accuracy of 11%. Therefore the model has performed quite well.\n",
    "\n",
    "The model was able to correctly identify the Miao language 100% of the time, probably due to the high correlation with the formants. It performed the worst on Bo, where every time it classified the language, it was only correct 60% of the time.\n",
    "\n",
    "A factor could be the synthetic data collected. Bo and Zapotec, the worst performing languages, only had few real data points.\n",
    "\n",
    "For a more accurate model, we would need to collect more data using a wider corpus to cover the entire scope of the spoken languages as well as individual dialects and accents."
   ]
  }
 ],
 "metadata": {
  "kernelspec": {
   "display_name": "Python 3",
   "language": "python",
   "name": "python3"
  },
  "language_info": {
   "codemirror_mode": {
    "name": "ipython",
    "version": 3
   },
   "file_extension": ".py",
   "mimetype": "text/x-python",
   "name": "python",
   "nbconvert_exporter": "python",
   "pygments_lexer": "ipython3",
   "version": "3.8.3"
  }
 },
 "nbformat": 4,
 "nbformat_minor": 4
}
